{
  "cells": [
    {
      "cell_type": "markdown",
      "metadata": {
        "id": "2FpU296UoW5K"
      },
      "source": [
        "# Introduction to matplotlib :\n",
        "\n",
        "Right so now that you know how to arrange data like you want it to using pandas, and you also know how to perform complex operations on that data using numpy, that does seem to be more than enough right? \n",
        "\n",
        "But let us say you do use pandas and numpy to calculate and derive inferences from your data, how do you see or visualize the data that you have just created? This is exactly where matplotlib comes in.\n",
        "\n",
        "Being the litteral crunchedup version of mathematical plotting library, matplot lib is the go to industry standard library to display your results in a visual format.\n",
        "\n",
        "From genreating barcharts to visualizing clusters, matplot lib is a powerfull library that is used for data visualization.\n",
        "\n"
      ]
    },
    {
      "cell_type": "markdown",
      "metadata": {
        "id": "Di23piC8qYHl"
      },
      "source": [
        "*Though this document is not a complete and intensive guide to matplotlib, understand that that is the purpose. For minute and fine details, you can read the documentation. The purpose of this file is to simple expose you to the possibilities of this library and provide a breif overview of what all is possible using matplotlib*"
      ]
    },
    {
      "cell_type": "markdown",
      "metadata": {
        "id": "0CBRUXaBrJI0"
      },
      "source": [
        "###  **0. Importing matplotlib**\n",
        "Just like any other library, to begin using matplotlib, you first need to import it.\n"
      ]
    },
    {
      "cell_type": "code",
      "execution_count": 1,
      "metadata": {
        "id": "aMDQGG68rkBz"
      },
      "outputs": [],
      "source": [
        "import matplotlib as mplt\n",
        "import numpy as np"
      ]
    },
    {
      "cell_type": "markdown",
      "metadata": {
        "id": "74VDtWqvrhrs"
      },
      "source": [
        "Since we are working on a remote python notebook, we need not install the library on our local machine. \n"
      ]
    },
    {
      "cell_type": "markdown",
      "metadata": {
        "id": "T3jTNeg5sRxf"
      },
      "source": [
        "However, the general method to do that is :"
      ]
    },
    {
      "cell_type": "code",
      "execution_count": 2,
      "metadata": {
        "colab": {
          "base_uri": "https://localhost:8080/"
        },
        "id": "Y5QWplt7soMR",
        "outputId": "6cf0117a-135b-4bfa-f3c0-0484cea7ca77"
      },
      "outputs": [
        {
          "name": "stdout",
          "output_type": "stream",
          "text": [
            "Requirement already satisfied: matplotlib in c:\\users\\hp\\appdata\\local\\programs\\python\\python39\\lib\\site-packages (3.4.3)\n",
            "Requirement already satisfied: python-dateutil>=2.7 in c:\\users\\hp\\appdata\\local\\programs\\python\\python39\\lib\\site-packages (from matplotlib) (2.8.2)\n",
            "Requirement already satisfied: pyparsing>=2.2.1 in c:\\users\\hp\\appdata\\local\\programs\\python\\python39\\lib\\site-packages (from matplotlib) (2.4.7)\n",
            "Requirement already satisfied: cycler>=0.10 in c:\\users\\hp\\appdata\\local\\programs\\python\\python39\\lib\\site-packages (from matplotlib) (0.10.0)\n",
            "Requirement already satisfied: kiwisolver>=1.0.1 in c:\\users\\hp\\appdata\\local\\programs\\python\\python39\\lib\\site-packages (from matplotlib) (1.3.2)\n",
            "Requirement already satisfied: numpy>=1.16 in c:\\users\\hp\\appdata\\local\\programs\\python\\python39\\lib\\site-packages (from matplotlib) (1.19.5)\n",
            "Requirement already satisfied: pillow>=6.2.0 in c:\\users\\hp\\appdata\\local\\programs\\python\\python39\\lib\\site-packages (from matplotlib) (8.3.2)\n",
            "Requirement already satisfied: six in c:\\users\\hp\\appdata\\local\\programs\\python\\python39\\lib\\site-packages (from cycler>=0.10->matplotlib) (1.15.0)\n",
            "Note: you may need to restart the kernel to use updated packages.\n"
          ]
        },
        {
          "name": "stderr",
          "output_type": "stream",
          "text": [
            "WARNING: You are using pip version 22.0.4; however, version 22.2.2 is available.\n",
            "You should consider upgrading via the 'c:\\Users\\hp\\AppData\\Local\\Programs\\Python\\Python39\\python.exe -m pip install --upgrade pip' command.\n"
          ]
        }
      ],
      "source": [
        "pip install matplotlib"
      ]
    },
    {
      "cell_type": "markdown",
      "metadata": {
        "id": "doXEJFz_s-GW"
      },
      "source": [
        "The most commonly used sublibrary of matplotlib is pyplot. So for convenience, we import pyplot as follows:"
      ]
    },
    {
      "cell_type": "code",
      "execution_count": 3,
      "metadata": {
        "id": "V838k14itSk5"
      },
      "outputs": [],
      "source": [
        "import matplotlib.pyplot as plt"
      ]
    },
    {
      "cell_type": "markdown",
      "metadata": {
        "id": "_z82njIqtrwr"
      },
      "source": [
        "### **1. Plotting Data**\n",
        "\n",
        "Now lets try plotting some data.\n",
        "\n",
        "For a start lets plot an empty graph"
      ]
    },
    {
      "cell_type": "code",
      "execution_count": 4,
      "metadata": {
        "colab": {
          "base_uri": "https://localhost:8080/",
          "height": 283
        },
        "id": "tP7yA-kztnWa",
        "outputId": "890112bf-c71f-46d0-c044-3a25899f0e11"
      },
      "outputs": [
        {
          "data": {
            "text/plain": [
              "[]"
            ]
          },
          "execution_count": 4,
          "metadata": {},
          "output_type": "execute_result"
        },
        {
          "data": {
            "image/png": "[encoded data removed]",
            "text/plain": [
              "<Figure size 432x288 with 1 Axes>"
            ]
          },
          "metadata": {
            "needs_background": "light"
          },
          "output_type": "display_data"
        }
      ],
      "source": [
        "plt.plot()"
      ]
    },
    {
      "cell_type": "markdown",
      "metadata": {
        "id": "IIeD_yBluIqN"
      },
      "source": [
        "Since we didn't pass any data into the function, nothing was plotted. "
      ]
    },
    {
      "cell_type": "markdown",
      "metadata": {
        "id": "JdoQp7qXuIG6"
      },
      "source": [
        "Now lets try the sam thing with some data."
      ]
    },
    {
      "cell_type": "code",
      "execution_count": 5,
      "metadata": {
        "colab": {
          "base_uri": "https://localhost:8080/",
          "height": 283
        },
        "id": "2jlvys0TuH5d",
        "outputId": "050c9c59-ea4b-4ebb-c58d-eb68da065ab9"
      },
      "outputs": [
        {
          "data": {
            "text/plain": [
              "[<matplotlib.lines.Line2D at 0x1f4fb2d1400>]"
            ]
          },
          "execution_count": 5,
          "metadata": {},
          "output_type": "execute_result"
        },
        {
          "data": {
            "image/png": "[encoded data removed]",
            "text/plain": [
              "<Figure size 432x288 with 1 Axes>"
            ]
          },
          "metadata": {
            "needs_background": "light"
          },
          "output_type": "display_data"
        }
      ],
      "source": [
        "plt.plot([1, 2, 3, 4])"
      ]
    },
    {
      "cell_type": "markdown",
      "metadata": {
        "id": "FKPqGaVYuX9h"
      },
      "source": [
        "Without x and y coordinates provided separately, the function implicitly assumes that the data provided to it are the coordinates of the y axis while the presumed x axis coordinates are 0,1,2....."
      ]
    },
    {
      "cell_type": "markdown",
      "metadata": {
        "id": "vB2_Ts2cuxtB"
      },
      "source": [
        "Lets try this with some custom x and y coordinates"
      ]
    },
    {
      "cell_type": "code",
      "execution_count": 6,
      "metadata": {
        "id": "wu1oRkDJvHPs"
      },
      "outputs": [],
      "source": [
        "x = [1, 2, 3, 4]\n",
        "y = [11, 44, 33, 22]"
      ]
    },
    {
      "cell_type": "code",
      "execution_count": 7,
      "metadata": {
        "colab": {
          "base_uri": "https://localhost:8080/",
          "height": 283
        },
        "id": "ebPaYp8TvJ2a",
        "outputId": "e284dbee-1ae3-4804-89b2-a14404e166f5"
      },
      "outputs": [
        {
          "data": {
            "text/plain": [
              "[<matplotlib.lines.Line2D at 0x1f4fb340fa0>]"
            ]
          },
          "execution_count": 7,
          "metadata": {},
          "output_type": "execute_result"
        },
        {
          "data": {
            "image/png": "[encoded data removed]",
            "text/plain": [
              "<Figure size 432x288 with 1 Axes>"
            ]
          },
          "metadata": {
            "needs_background": "light"
          },
          "output_type": "display_data"
        }
      ],
      "source": [
        "plt.plot(x, y)"
      ]
    },
    {
      "cell_type": "markdown",
      "metadata": {
        "id": "XLfJyoi-vdBu"
      },
      "source": [
        "Here, while x coordinates are in ascending order, y coordinates are not. \n",
        "\n",
        "Thus we can see that the plot function simply plots the coordinates and connects consecutive points with each other.\n",
        "\n",
        "This can be seen more clearly below."
      ]
    },
    {
      "cell_type": "code",
      "execution_count": 8,
      "metadata": {
        "id": "Tt_KSK1UvYWf"
      },
      "outputs": [],
      "source": [
        "m = [10, 2, 3, 4]\n",
        "n = [11, 44, 33, 22]"
      ]
    },
    {
      "cell_type": "code",
      "execution_count": 9,
      "metadata": {
        "colab": {
          "base_uri": "https://localhost:8080/",
          "height": 283
        },
        "id": "qLOJa9huv0F1",
        "outputId": "c014848b-c106-422a-9429-c321b72053e1"
      },
      "outputs": [
        {
          "data": {
            "text/plain": [
              "[<matplotlib.lines.Line2D at 0x1f4fb1b6520>]"
            ]
          },
          "execution_count": 9,
          "metadata": {},
          "output_type": "execute_result"
        },
        {
          "data": {
            "image/png": "[encoded data removed]",
            "text/plain": [
              "<Figure size 432x288 with 1 Axes>"
            ]
          },
          "metadata": {
            "needs_background": "light"
          },
          "output_type": "display_data"
        }
      ],
      "source": [
        "plt.plot(m,n)"
      ]
    },
    {
      "cell_type": "markdown",
      "metadata": {
        "id": "M8oiGLUdvYD_"
      },
      "source": [
        "A special feature of matplotlib is that it allows users to plot multiple graphsin a sinle plot, thus enabling us to locate cross-plot patters and correlations.\n",
        "\n",
        "This is achieved through subplots.\n",
        "\n",
        "An example is given below.:"
      ]
    },
    {
      "cell_type": "code",
      "execution_count": 10,
      "metadata": {
        "colab": {
          "base_uri": "https://localhost:8080/",
          "height": 531
        },
        "id": "OwvFV-3kyZw5",
        "outputId": "b336854f-78c5-4f44-a84e-a02056f6271a"
      },
      "outputs": [
        {
          "data": {
            "text/plain": [
              "[<matplotlib.lines.Line2D at 0x1f4fb40f220>]"
            ]
          },
          "execution_count": 10,
          "metadata": {},
          "output_type": "execute_result"
        },
        {
          "data": {
            "image/png": "[encoded data removed]",
            "text/plain": [
              "<Figure size 432x288 with 1 Axes>"
            ]
          },
          "metadata": {
            "needs_background": "light"
          },
          "output_type": "display_data"
        },
        {
          "data": {
            "image/png": "[encoded data removed]",
            "text/plain": [
              "<Figure size 432x288 with 1 Axes>"
            ]
          },
          "metadata": {
            "needs_background": "light"
          },
          "output_type": "display_data"
        }
      ],
      "source": [
        "fig, ax = plt.subplots()\n",
        "fig, bx = plt.subplots()\n",
        "ax.plot(x, y)\n",
        "bx.plot(m,n)"
      ]
    },
    {
      "cell_type": "markdown",
      "metadata": {
        "id": "ToVmQhRgyv15"
      },
      "source": [
        "The locations of these subplots wrt one another can be manipluated by passing parameters to the subplots function."
      ]
    },
    {
      "cell_type": "code",
      "execution_count": 14,
      "metadata": {
        "colab": {
          "base_uri": "https://localhost:8080/",
          "height": 320
        },
        "id": "CueaKRfF4Zq1",
        "outputId": "fd6ab88f-432b-46d3-9981-ce322969a053"
      },
      "outputs": [
        {
          "ename": "TypeError",
          "evalue": "unsupported operand type(s) for /: 'list' and 'int'",
          "output_type": "error",
          "traceback": [
            "\u001b[1;31m---------------------------------------------------------------------------\u001b[0m",
            "\u001b[1;31mTypeError\u001b[0m                                 Traceback (most recent call last)",
            "\u001b[1;32m~\\AppData\\Local\\Temp/ipykernel_12108/2169174501.py\u001b[0m in \u001b[0;36m<module>\u001b[1;34m\u001b[0m\n\u001b[0;32m      4\u001b[0m \u001b[1;33m\u001b[0m\u001b[0m\n\u001b[0;32m      5\u001b[0m \u001b[1;31m# Plot data to each axis\u001b[0m\u001b[1;33m\u001b[0m\u001b[1;33m\u001b[0m\u001b[0m\n\u001b[1;32m----> 6\u001b[1;33m \u001b[0max1\u001b[0m\u001b[1;33m.\u001b[0m\u001b[0mplot\u001b[0m\u001b[1;33m(\u001b[0m\u001b[0mx\u001b[0m\u001b[1;33m,\u001b[0m \u001b[0mx\u001b[0m\u001b[1;33m/\u001b[0m\u001b[1;36m2\u001b[0m\u001b[1;33m)\u001b[0m\u001b[1;33m;\u001b[0m\u001b[1;33m\u001b[0m\u001b[1;33m\u001b[0m\u001b[0m\n\u001b[0m\u001b[0;32m      7\u001b[0m \u001b[0max2\u001b[0m\u001b[1;33m.\u001b[0m\u001b[0mscatter\u001b[0m\u001b[1;33m(\u001b[0m\u001b[0mnp\u001b[0m\u001b[1;33m.\u001b[0m\u001b[0mrandom\u001b[0m\u001b[1;33m.\u001b[0m\u001b[0mrandom\u001b[0m\u001b[1;33m(\u001b[0m\u001b[1;36m10\u001b[0m\u001b[1;33m)\u001b[0m\u001b[1;33m,\u001b[0m \u001b[0mnp\u001b[0m\u001b[1;33m.\u001b[0m\u001b[0mrandom\u001b[0m\u001b[1;33m.\u001b[0m\u001b[0mrandom\u001b[0m\u001b[1;33m(\u001b[0m\u001b[1;36m10\u001b[0m\u001b[1;33m)\u001b[0m\u001b[1;33m)\u001b[0m\u001b[1;33m;\u001b[0m\u001b[1;33m\u001b[0m\u001b[1;33m\u001b[0m\u001b[0m\n\u001b[0;32m      8\u001b[0m \u001b[0max4\u001b[0m\u001b[1;33m.\u001b[0m\u001b[0mhist\u001b[0m\u001b[1;33m(\u001b[0m\u001b[0mnp\u001b[0m\u001b[1;33m.\u001b[0m\u001b[0mrandom\u001b[0m\u001b[1;33m.\u001b[0m\u001b[0mrandn\u001b[0m\u001b[1;33m(\u001b[0m\u001b[1;36m1000\u001b[0m\u001b[1;33m)\u001b[0m\u001b[1;33m)\u001b[0m\u001b[1;33m;\u001b[0m\u001b[1;33m\u001b[0m\u001b[1;33m\u001b[0m\u001b[0m\n",
            "\u001b[1;31mTypeError\u001b[0m: unsupported operand type(s) for /: 'list' and 'int'"
          ]
        },
        {
          "data": {
            "image/png": "[encoded data removed]",
            "text/plain": [
              "<Figure size 720x360 with 4 Axes>"
            ]
          },
          "metadata": {
            "needs_background": "light"
          },
          "output_type": "display_data"
        }
      ],
      "source": [
        "fig, ((ax1, ax2), (ax3, ax4)) = plt.subplots(nrows=2, \n",
        "                                             ncols=2, \n",
        "                                             figsize=(10, 5))\n",
        "\n",
        "# Plot data to each axis\n",
        "ax1.plot(x, x/2);\n",
        "ax2.scatter(np.random.random(10), np.random.random(10));\n",
        "ax4.hist(np.random.randn(1000));"
      ]
    },
    {
      "cell_type": "markdown",
      "metadata": {
        "id": "7085wSaHzKrj"
      },
      "source": [
        "### **2. Naming and saving plots**\n",
        "\n",
        "Using matplotlib, graphs can be labled and saved as an image as follows:\n",
        "\n"
      ]
    },
    {
      "cell_type": "code",
      "execution_count": null,
      "metadata": {
        "colab": {
          "base_uri": "https://localhost:8080/",
          "height": 295
        },
        "id": "Nzxx92uoyvq_",
        "outputId": "9fc06bb5-ab14-4817-f861-bb607e152358"
      },
      "outputs": [
        {
          "data": {
            "image/png": "[encoded data removed]",
            "text/plain": [
              "<Figure size 432x288 with 1 Axes>"
            ]
          },
          "metadata": {
            "needs_background": "light"
          },
          "output_type": "display_data"
        }
      ],
      "source": [
        "fig, ax = plt.subplots()\n",
        "ax.plot(x, y)\n",
        "ax.set(title=\"Sample Simple Plot\", xlabel=\"x-axis\", ylabel=\"y-axis\")\n",
        "fig.savefig(\"sample-plot.png\")"
      ]
    },
    {
      "cell_type": "markdown",
      "metadata": {
        "id": "cJsTao2EyZjT"
      },
      "source": [
        "### **3. General Matplotlib Plots :**\n",
        "\n"
      ]
    },
    {
      "cell_type": "markdown",
      "metadata": {
        "id": "f9XXyf7q0bat"
      },
      "source": [
        "#### 3.1 Line :\n",
        "\n",
        "Line is the default type of visualization in Matplotlib. Usually, unless specified otherwise, your plots will start out as lines."
      ]
    },
    {
      "cell_type": "code",
      "execution_count": null,
      "metadata": {
        "id": "FKvMThZ70yOC"
      },
      "outputs": [],
      "source": [
        "x = np.linspace(0, 10, 100)\n",
        "# Calculate 100 evenly spaced numbers over the range of 0 to 10 both inclusive.\n",
        "x=x[:16]\n",
        "# Return the first 10"
      ]
    },
    {
      "cell_type": "code",
      "execution_count": null,
      "metadata": {
        "colab": {
          "base_uri": "https://localhost:8080/",
          "height": 283
        },
        "id": "ZP8GyHUX1bZ2",
        "outputId": "12d1ad74-69c6-480b-8b38-0c97d1c30e45"
      },
      "outputs": [
        {
          "data": {
            "text/plain": [
              "[<matplotlib.lines.Line2D at 0x7f343be49150>]"
            ]
          },
          "execution_count": 61,
          "metadata": {},
          "output_type": "execute_result"
        },
        {
          "data": {
            "image/png": "[encoded data removed]",
            "text/plain": [
              "<Figure size 432x288 with 1 Axes>"
            ]
          },
          "metadata": {
            "needs_background": "light"
          },
          "output_type": "display_data"
        }
      ],
      "source": [
        "fig, ax = plt.subplots()\n",
        "\n",
        "ax.plot(x, x**2)\n",
        "\n",
        "#Try varying the values in the array x to see that the plotted graph is not smooth."
      ]
    },
    {
      "cell_type": "markdown",
      "metadata": {
        "id": "QeyhcTFT2RpA"
      },
      "source": [
        "#### 3.2 Scatter :\n",
        "\n",
        "A Scatter plot is simply a collection of points that have been plotted on the coordinate axis without connecting them with each other."
      ]
    },
    {
      "cell_type": "code",
      "execution_count": null,
      "metadata": {
        "colab": {
          "base_uri": "https://localhost:8080/",
          "height": 283
        },
        "id": "-Ix9jR1r2RWb",
        "outputId": "4a0df9b4-968a-4bd6-ccad-d5a714590b97"
      },
      "outputs": [
        {
          "data": {
            "text/plain": [
              "<matplotlib.collections.PathCollection at 0x7f343bdd11d0>"
            ]
          },
          "execution_count": 63,
          "metadata": {},
          "output_type": "execute_result"
        },
        {
          "data": {
            "image/png": "[encoded data removed]",
            "text/plain": [
              "<Figure size 432x288 with 1 Axes>"
            ]
          },
          "metadata": {
            "needs_background": "light"
          },
          "output_type": "display_data"
        }
      ],
      "source": [
        "fig, ax = plt.subplots()\n",
        "ax.scatter(x, x**2)"
      ]
    },
    {
      "cell_type": "markdown",
      "metadata": {
        "id": "Uy4jbg6s3DlJ"
      },
      "source": [
        "#### 3.3 Bar :\n",
        "\n",
        "Can be of two types:\n",
        "*   Vertical\n",
        "*   Horizontal\n",
        "\n",
        "\n"
      ]
    },
    {
      "cell_type": "code",
      "execution_count": null,
      "metadata": {
        "colab": {
          "base_uri": "https://localhost:8080/",
          "height": 281
        },
        "id": "CXXXXZx23YX9",
        "outputId": "af47aead-aa8e-4f1e-b653-38ffa03f2c76"
      },
      "outputs": [
        {
          "data": {
            "image/png": "[encoded data removed]",
            "text/plain": [
              "<Figure size 432x288 with 1 Axes>"
            ]
          },
          "metadata": {
            "needs_background": "light"
          },
          "output_type": "display_data"
        }
      ],
      "source": [
        "nut_butter_prices = {\"Almond butter\": 10,\n",
        "                     \"Peanut butter\": 8,\n",
        "                     \"Cashew butter\": 12}\n",
        "fig, ax = plt.subplots()\n",
        "ax.bar(nut_butter_prices.keys(), nut_butter_prices.values())\n",
        "ax.set(title=\"Dan's Nut Butter Store\", ylabel=\"Price ($)\")"
      ]
    },
    {
      "cell_type": "code",
      "execution_count": null,
      "metadata": {
        "colab": {
          "base_uri": "https://localhost:8080/",
          "height": 265
        },
        "id": "UGjGjmPJ3eZe",
        "outputId": "bde085ca-f388-4430-9dd1-c71d9d40a52d"
      },
      "outputs": [
        {
          "data": {
            "image/png": "[encoded data removed]",
            "text/plain": [
              "<Figure size 432x288 with 1 Axes>"
            ]
          },
          "metadata": {
            "needs_background": "light"
          },
          "output_type": "display_data"
        }
      ],
      "source": [
        "fig, ax = plt.subplots()\n",
        "ax.barh(list(nut_butter_prices.keys()), list(nut_butter_prices.values()))"
      ]
    },
    {
      "cell_type": "markdown",
      "metadata": {
        "id": "mD1XP_8-3Gnb"
      },
      "source": [
        "#### 3.4 Histogram :\n",
        "\n",
        "Histograms are generally used for plotting data that is present in continuous ranges. This includes plots like price ranges vs items sold or probability distribution functions, probability density functions, cumulative distributive fucntions, normal/poisson/exponential distributions etc etc\n"
      ]
    },
    {
      "cell_type": "code",
      "execution_count": null,
      "metadata": {
        "colab": {
          "base_uri": "https://localhost:8080/",
          "height": 265
        },
        "id": "qk8N050T4IHQ",
        "outputId": "1e43be22-f0a8-4b2d-f33d-4998a068c49d"
      },
      "outputs": [
        {
          "data": {
            "image/png": "[encoded data removed]",
            "text/plain": [
              "<Figure size 432x288 with 1 Axes>"
            ]
          },
          "metadata": {
            "needs_background": "light"
          },
          "output_type": "display_data"
        }
      ],
      "source": [
        "x = np.random.randn(1000) \n",
        "# pulls data from a normal distribution\n",
        "\n",
        "fig, ax = plt.subplots()\n",
        "ax.hist(x)"
      ]
    },
    {
      "cell_type": "code",
      "execution_count": null,
      "metadata": {
        "colab": {
          "base_uri": "https://localhost:8080/",
          "height": 265
        },
        "id": "RdKMvBA94LXO",
        "outputId": "5927b49d-6fa8-4b73-eaf3-475265d00cef"
      },
      "outputs": [
        {
          "data": {
            "text/plain": [
              "(array([114., 108.,  97., 107., 100., 107.,  95.,  82.,  89., 101.]),\n",
              " array([0.00235439, 0.10209097, 0.20182754, 0.30156412, 0.4013007 ,\n",
              "        0.50103728, 0.60077385, 0.70051043, 0.80024701, 0.89998359,\n",
              "        0.99972016]),\n",
              " <BarContainer object of 10 artists>)"
            ]
          },
          "execution_count": 14,
          "metadata": {},
          "output_type": "execute_result"
        },
        {
          "data": {
            "image/png": "[encoded data removed]",
            "text/plain": [
              "<Figure size 432x288 with 1 Axes>"
            ]
          },
          "metadata": {
            "needs_background": "light"
          },
          "output_type": "display_data"
        }
      ],
      "source": [
        "x = np.random.random(1000) \n",
        "# random data from random distribution\n",
        "\n",
        "fig, ax = plt.subplots()\n",
        "ax.hist(x)"
      ]
    },
    {
      "cell_type": "code",
      "execution_count": null,
      "metadata": {},
      "outputs": [],
      "source": []
    }
  ],
  "metadata": {
    "colab": {
      "collapsed_sections": [],
      "provenance": []
    },
    "kernelspec": {
      "display_name": "Python 3.9.7 64-bit",
      "language": "python",
      "name": "python3"
    },
    "language_info": {
      "codemirror_mode": {
        "name": "ipython",
        "version": 3
      },
      "file_extension": ".py",
      "mimetype": "text/x-python",
      "name": "python",
      "nbconvert_exporter": "python",
      "pygments_lexer": "ipython3",
      "version": "3.9.7"
    },
    "vscode": {
      "interpreter": {
        "hash": "b671c20432fcd147198c92e7f072af9e705f087eb990bee22b07f08caab9f630"
      }
    }
  },
  "nbformat": 4,
  "nbformat_minor": 0
}
