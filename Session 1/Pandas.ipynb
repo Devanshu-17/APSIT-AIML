{
  "cells": [
    {
      "cell_type": "markdown",
      "metadata": {
        "id": "Yon2Qt1T9zcV"
      },
      "source": [
        "# **Pandas**\n",
        "\n",
        "### What is Pandas? \n",
        "\n",
        "I know a cute black and white bear comes to mind. <br>\n",
        "But in the world of Machine Learning and Data Science, Pandas is one of the most important Python Libraries you will come across.\n",
        "<br>\n",
        "Pandas is an open source library that helps you manipulate and analyze data.<br>It provides ready to use high-performance data structures and data analysis tools. Pandas module runs on top of NumPy.\n"
      ]
    },
    {
      "cell_type": "markdown",
      "metadata": {
        "id": "bJB5R2RcFTI7"
      },
      "source": [
        "*In this notebook we cover some of the most fundamental functions of the Pandas Library*"
      ]
    },
    {
      "cell_type": "markdown",
      "metadata": {
        "id": "8Ev4vyw_DpI0"
      },
      "source": [
        "###  **0. Importing Pandas**\n",
        "To get started using pandas, the first step is to import it.\n",
        "\n",
        "The most common way is to import pandas as the abbreviation pd.\n",
        "\n",
        "If you see the letters pd used anywhere in machine learning or data science, it's probably referring to the pandas library."
      ]
    },
    {
      "cell_type": "code",
      "execution_count": 1,
      "metadata": {
        "id": "PZAyQvN09yhu"
      },
      "outputs": [],
      "source": [
        "import pandas as pd"
      ]
    },
    {
      "cell_type": "markdown",
      "metadata": {
        "id": "N88k9wj7DnjQ"
      },
      "source": [
        "### **1. Datatypes in Pandas**\n",
        "\n",
        "There are two major datatypes in pandas, `Series` and `DataFrame`.\n",
        "\n",
        "\n",
        "*   `Series` : One-Dimensional column of data.\n",
        "*   `DataFrame` : Two-Dimensional table of data with rows and columns.\n",
        "\n",
        "You can create a Series using `pd.Series()` and passing it a Python list.\n",
        "\n",
        "Consider the following example:"
      ]
    },
    {
      "cell_type": "code",
      "execution_count": 2,
      "metadata": {
        "colab": {
          "base_uri": "https://localhost:8080/"
        },
        "id": "u1_IpI_-FMmd",
        "outputId": "902ffa0b-c22c-4c9a-c235-e3a0c828060d"
      },
      "outputs": [
        {
          "data": {
            "text/plain": [
              "0     Apple\n",
              "1     Mango\n",
              "2    Banana\n",
              "dtype: object"
            ]
          },
          "execution_count": 2,
          "metadata": {},
          "output_type": "execute_result"
        }
      ],
      "source": [
        "fruits = pd.Series([\"Apple\", \"Mango\", \"Banana\"])\n",
        "fruits"
      ]
    },
    {
      "cell_type": "code",
      "execution_count": 3,
      "metadata": {
        "colab": {
          "base_uri": "https://localhost:8080/"
        },
        "id": "o_Wls4oLI9lL",
        "outputId": "1c016894-5514-4ee0-d162-0b1af4facc08"
      },
      "outputs": [
        {
          "data": {
            "text/plain": [
              "0       Red\n",
              "1    Yellow\n",
              "2     Green\n",
              "dtype: object"
            ]
          },
          "execution_count": 3,
          "metadata": {},
          "output_type": "execute_result"
        }
      ],
      "source": [
        "colors = pd.Series([\"Red\", \"Yellow\", \"Green\"])\n",
        "colors"
      ]
    },
    {
      "cell_type": "markdown",
      "metadata": {
        "id": "2jZOd5w5JHfz"
      },
      "source": [
        "You can create a DataFrame by using `pd.DataFrame()` and passing it a Python dictionary.\n",
        "\n",
        "Consider the following example:\n",
        "\n",
        "Let's use our two Series (fruits and colors) as the values."
      ]
    },
    {
      "cell_type": "code",
      "execution_count": 5,
      "metadata": {
        "colab": {
          "base_uri": "https://localhost:8080/",
          "height": 142
        },
        "id": "qUB7fOKKJa4Y",
        "outputId": "31128757-e02b-4bc5-8e81-b3caf5f7974a"
      },
      "outputs": [
        {
          "data": {
            "text/html": [
              "\n",
              "  <div id=\"df-5f1073bc-2194-4b43-b6d3-3a6582fbc127\">\n",
              "    <div class=\"colab-df-container\">\n",
              "      <div>\n",
              "<style scoped>\n",
              "    .dataframe tbody tr th:only-of-type {\n",
              "        vertical-align: middle;\n",
              "    }\n",
              "\n",
              "    .dataframe tbody tr th {\n",
              "        vertical-align: top;\n",
              "    }\n",
              "\n",
              "    .dataframe thead th {\n",
              "        text-align: right;\n",
              "    }\n",
              "</style>\n",
              "<table border=\"1\" class=\"dataframe\">\n",
              "  <thead>\n",
              "    <tr style=\"text-align: right;\">\n",
              "      <th></th>\n",
              "      <th>Fruit</th>\n",
              "      <th>Color</th>\n",
              "    </tr>\n",
              "  </thead>\n",
              "  <tbody>\n",
              "    <tr>\n",
              "      <th>0</th>\n",
              "      <td>Apple</td>\n",
              "      <td>Red</td>\n",
              "    </tr>\n",
              "    <tr>\n",
              "      <th>1</th>\n",
              "      <td>Mango</td>\n",
              "      <td>Yellow</td>\n",
              "    </tr>\n",
              "    <tr>\n",
              "      <th>2</th>\n",
              "      <td>Banana</td>\n",
              "      <td>Green</td>\n",
              "    </tr>\n",
              "  </tbody>\n",
              "</table>\n",
              "</div>\n",
              "      <button class=\"colab-df-convert\" onclick=\"convertToInteractive('df-5f1073bc-2194-4b43-b6d3-3a6582fbc127')\"\n",
              "              title=\"Convert this dataframe to an interactive table.\"\n",
              "              style=\"display:none;\">\n",
              "        \n",
              "  <svg xmlns=\"http://www.w3.org/2000/svg\" height=\"24px\"viewBox=\"0 0 24 24\"\n",
              "       width=\"24px\">\n",
              "    <path d=\"M0 0h24v24H0V0z\" fill=\"none\"/>\n",
              "    <path d=\"M18.56 5.44l.94 2.06.94-2.06 2.06-.94-2.06-.94-.94-2.06-.94 2.06-2.06.94zm-11 1L8.5 8.5l.94-2.06 2.06-.94-2.06-.94L8.5 2.5l-.94 2.06-2.06.94zm10 10l.94 2.06.94-2.06 2.06-.94-2.06-.94-.94-2.06-.94 2.06-2.06.94z\"/><path d=\"M17.41 7.96l-1.37-1.37c-.4-.4-.92-.59-1.43-.59-.52 0-1.04.2-1.43.59L10.3 9.45l-7.72 7.72c-.78.78-.78 2.05 0 2.83L4 21.41c.39.39.9.59 1.41.59.51 0 1.02-.2 1.41-.59l7.78-7.78 2.81-2.81c.8-.78.8-2.07 0-2.86zM5.41 20L4 18.59l7.72-7.72 1.47 1.35L5.41 20z\"/>\n",
              "  </svg>\n",
              "      </button>\n",
              "      \n",
              "  <style>\n",
              "    .colab-df-container {\n",
              "      display:flex;\n",
              "      flex-wrap:wrap;\n",
              "      gap: 12px;\n",
              "    }\n",
              "\n",
              "    .colab-df-convert {\n",
              "      background-color: #E8F0FE;\n",
              "      border: none;\n",
              "      border-radius: 50%;\n",
              "      cursor: pointer;\n",
              "      display: none;\n",
              "      fill: #1967D2;\n",
              "      height: 32px;\n",
              "      padding: 0 0 0 0;\n",
              "      width: 32px;\n",
              "    }\n",
              "\n",
              "    .colab-df-convert:hover {\n",
              "      background-color: #E2EBFA;\n",
              "      box-shadow: 0px 1px 2px rgba(60, 64, 67, 0.3), 0px 1px 3px 1px rgba(60, 64, 67, 0.15);\n",
              "      fill: #174EA6;\n",
              "    }\n",
              "\n",
              "    [theme=dark] .colab-df-convert {\n",
              "      background-color: #3B4455;\n",
              "      fill: #D2E3FC;\n",
              "    }\n",
              "\n",
              "    [theme=dark] .colab-df-convert:hover {\n",
              "      background-color: #434B5C;\n",
              "      box-shadow: 0px 1px 3px 1px rgba(0, 0, 0, 0.15);\n",
              "      filter: drop-shadow(0px 1px 2px rgba(0, 0, 0, 0.3));\n",
              "      fill: #FFFFFF;\n",
              "    }\n",
              "  </style>\n",
              "\n",
              "      <script>\n",
              "        const buttonEl =\n",
              "          document.querySelector('#df-5f1073bc-2194-4b43-b6d3-3a6582fbc127 button.colab-df-convert');\n",
              "        buttonEl.style.display =\n",
              "          google.colab.kernel.accessAllowed ? 'block' : 'none';\n",
              "\n",
              "        async function convertToInteractive(key) {\n",
              "          const element = document.querySelector('#df-5f1073bc-2194-4b43-b6d3-3a6582fbc127');\n",
              "          const dataTable =\n",
              "            await google.colab.kernel.invokeFunction('convertToInteractive',\n",
              "                                                     [key], {});\n",
              "          if (!dataTable) return;\n",
              "\n",
              "          const docLinkHtml = 'Like what you see? Visit the ' +\n",
              "            '<a target=\"_blank\" href=https://colab.research.google.com/notebooks/data_table.ipynb>data table notebook</a>'\n",
              "            + ' to learn more about interactive tables.';\n",
              "          element.innerHTML = '';\n",
              "          dataTable['output_type'] = 'display_data';\n",
              "          await google.colab.output.renderOutput(dataTable, element);\n",
              "          const docLink = document.createElement('div');\n",
              "          docLink.innerHTML = docLinkHtml;\n",
              "          element.appendChild(docLink);\n",
              "        }\n",
              "      </script>\n",
              "    </div>\n",
              "  </div>\n",
              "  "
            ],
            "text/plain": [
              "    Fruit   Color\n",
              "0   Apple     Red\n",
              "1   Mango  Yellow\n",
              "2  Banana   Green"
            ]
          },
          "execution_count": 5,
          "metadata": {},
          "output_type": "execute_result"
        }
      ],
      "source": [
        "fruitData = pd.DataFrame({\"Fruit\" : fruits, \"Color\" : colors})\n",
        "fruitData"
      ]
    },
    {
      "cell_type": "markdown",
      "metadata": {
        "id": "tEvdOVwtKlyv"
      },
      "source": [
        "### **2. Importing Data**\n",
        "\n",
        "During your Machine Learning journey, Something that you'll have to do countless times is importing your data in the form of a `.csv` (Comma Seperated Value) file or a spreadsheet file.\n",
        "\n",
        "pandas allows for easy importing of data like this through functions such as `pd.read_csv()` and `pd.read_excel()` (for Microsoft Excel files).\n",
        "\n",
        "Say you wanted to get this information from this `.csv` document into a pandas `DataFrame`.\n",
        "\n",
        "\n",
        "\n",
        "![Screenshot 2022-09-18 at 4.10.18 PM.png](data:image/png;base64,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)"
      ]
    },
    {
      "cell_type": "code",
      "execution_count": 7,
      "metadata": {
        "colab": {
          "base_uri": "https://localhost:8080/",
          "height": 359
        },
        "id": "XoVc-zf3McXu",
        "outputId": "a41fb152-98ae-4be2-8faa-7db361573b85"
      },
      "outputs": [
        {
          "data": {
            "text/html": [
              "\n",
              "  <div id=\"df-71d0eb43-ce85-4d98-94b0-d2ac556d7ba6\">\n",
              "    <div class=\"colab-df-container\">\n",
              "      <div>\n",
              "<style scoped>\n",
              "    .dataframe tbody tr th:only-of-type {\n",
              "        vertical-align: middle;\n",
              "    }\n",
              "\n",
              "    .dataframe tbody tr th {\n",
              "        vertical-align: top;\n",
              "    }\n",
              "\n",
              "    .dataframe thead th {\n",
              "        text-align: right;\n",
              "    }\n",
              "</style>\n",
              "<table border=\"1\" class=\"dataframe\">\n",
              "  <thead>\n",
              "    <tr style=\"text-align: right;\">\n",
              "      <th></th>\n",
              "      <th>Country</th>\n",
              "      <th>Age</th>\n",
              "      <th>Salary</th>\n",
              "      <th>Purchased</th>\n",
              "    </tr>\n",
              "  </thead>\n",
              "  <tbody>\n",
              "    <tr>\n",
              "      <th>0</th>\n",
              "      <td>France</td>\n",
              "      <td>44.0</td>\n",
              "      <td>72000.0</td>\n",
              "      <td>No</td>\n",
              "    </tr>\n",
              "    <tr>\n",
              "      <th>1</th>\n",
              "      <td>Spain</td>\n",
              "      <td>27.0</td>\n",
              "      <td>48000.0</td>\n",
              "      <td>Yes</td>\n",
              "    </tr>\n",
              "    <tr>\n",
              "      <th>2</th>\n",
              "      <td>Germany</td>\n",
              "      <td>30.0</td>\n",
              "      <td>54000.0</td>\n",
              "      <td>No</td>\n",
              "    </tr>\n",
              "    <tr>\n",
              "      <th>3</th>\n",
              "      <td>Spain</td>\n",
              "      <td>38.0</td>\n",
              "      <td>61000.0</td>\n",
              "      <td>No</td>\n",
              "    </tr>\n",
              "    <tr>\n",
              "      <th>4</th>\n",
              "      <td>Germany</td>\n",
              "      <td>40.0</td>\n",
              "      <td>NaN</td>\n",
              "      <td>Yes</td>\n",
              "    </tr>\n",
              "    <tr>\n",
              "      <th>5</th>\n",
              "      <td>France</td>\n",
              "      <td>35.0</td>\n",
              "      <td>58000.0</td>\n",
              "      <td>Yes</td>\n",
              "    </tr>\n",
              "    <tr>\n",
              "      <th>6</th>\n",
              "      <td>Spain</td>\n",
              "      <td>NaN</td>\n",
              "      <td>52000.0</td>\n",
              "      <td>No</td>\n",
              "    </tr>\n",
              "    <tr>\n",
              "      <th>7</th>\n",
              "      <td>France</td>\n",
              "      <td>48.0</td>\n",
              "      <td>79000.0</td>\n",
              "      <td>Yes</td>\n",
              "    </tr>\n",
              "    <tr>\n",
              "      <th>8</th>\n",
              "      <td>Germany</td>\n",
              "      <td>50.0</td>\n",
              "      <td>83000.0</td>\n",
              "      <td>No</td>\n",
              "    </tr>\n",
              "    <tr>\n",
              "      <th>9</th>\n",
              "      <td>France</td>\n",
              "      <td>37.0</td>\n",
              "      <td>67000.0</td>\n",
              "      <td>Yes</td>\n",
              "    </tr>\n",
              "  </tbody>\n",
              "</table>\n",
              "</div>\n",
              "      <button class=\"colab-df-convert\" onclick=\"convertToInteractive('df-71d0eb43-ce85-4d98-94b0-d2ac556d7ba6')\"\n",
              "              title=\"Convert this dataframe to an interactive table.\"\n",
              "              style=\"display:none;\">\n",
              "        \n",
              "  <svg xmlns=\"http://www.w3.org/2000/svg\" height=\"24px\"viewBox=\"0 0 24 24\"\n",
              "       width=\"24px\">\n",
              "    <path d=\"M0 0h24v24H0V0z\" fill=\"none\"/>\n",
              "    <path d=\"M18.56 5.44l.94 2.06.94-2.06 2.06-.94-2.06-.94-.94-2.06-.94 2.06-2.06.94zm-11 1L8.5 8.5l.94-2.06 2.06-.94-2.06-.94L8.5 2.5l-.94 2.06-2.06.94zm10 10l.94 2.06.94-2.06 2.06-.94-2.06-.94-.94-2.06-.94 2.06-2.06.94z\"/><path d=\"M17.41 7.96l-1.37-1.37c-.4-.4-.92-.59-1.43-.59-.52 0-1.04.2-1.43.59L10.3 9.45l-7.72 7.72c-.78.78-.78 2.05 0 2.83L4 21.41c.39.39.9.59 1.41.59.51 0 1.02-.2 1.41-.59l7.78-7.78 2.81-2.81c.8-.78.8-2.07 0-2.86zM5.41 20L4 18.59l7.72-7.72 1.47 1.35L5.41 20z\"/>\n",
              "  </svg>\n",
              "      </button>\n",
              "      \n",
              "  <style>\n",
              "    .colab-df-container {\n",
              "      display:flex;\n",
              "      flex-wrap:wrap;\n",
              "      gap: 12px;\n",
              "    }\n",
              "\n",
              "    .colab-df-convert {\n",
              "      background-color: #E8F0FE;\n",
              "      border: none;\n",
              "      border-radius: 50%;\n",
              "      cursor: pointer;\n",
              "      display: none;\n",
              "      fill: #1967D2;\n",
              "      height: 32px;\n",
              "      padding: 0 0 0 0;\n",
              "      width: 32px;\n",
              "    }\n",
              "\n",
              "    .colab-df-convert:hover {\n",
              "      background-color: #E2EBFA;\n",
              "      box-shadow: 0px 1px 2px rgba(60, 64, 67, 0.3), 0px 1px 3px 1px rgba(60, 64, 67, 0.15);\n",
              "      fill: #174EA6;\n",
              "    }\n",
              "\n",
              "    [theme=dark] .colab-df-convert {\n",
              "      background-color: #3B4455;\n",
              "      fill: #D2E3FC;\n",
              "    }\n",
              "\n",
              "    [theme=dark] .colab-df-convert:hover {\n",
              "      background-color: #434B5C;\n",
              "      box-shadow: 0px 1px 3px 1px rgba(0, 0, 0, 0.15);\n",
              "      filter: drop-shadow(0px 1px 2px rgba(0, 0, 0, 0.3));\n",
              "      fill: #FFFFFF;\n",
              "    }\n",
              "  </style>\n",
              "\n",
              "      <script>\n",
              "        const buttonEl =\n",
              "          document.querySelector('#df-71d0eb43-ce85-4d98-94b0-d2ac556d7ba6 button.colab-df-convert');\n",
              "        buttonEl.style.display =\n",
              "          google.colab.kernel.accessAllowed ? 'block' : 'none';\n",
              "\n",
              "        async function convertToInteractive(key) {\n",
              "          const element = document.querySelector('#df-71d0eb43-ce85-4d98-94b0-d2ac556d7ba6');\n",
              "          const dataTable =\n",
              "            await google.colab.kernel.invokeFunction('convertToInteractive',\n",
              "                                                     [key], {});\n",
              "          if (!dataTable) return;\n",
              "\n",
              "          const docLinkHtml = 'Like what you see? Visit the ' +\n",
              "            '<a target=\"_blank\" href=https://colab.research.google.com/notebooks/data_table.ipynb>data table notebook</a>'\n",
              "            + ' to learn more about interactive tables.';\n",
              "          element.innerHTML = '';\n",
              "          dataTable['output_type'] = 'display_data';\n",
              "          await google.colab.output.renderOutput(dataTable, element);\n",
              "          const docLink = document.createElement('div');\n",
              "          docLink.innerHTML = docLinkHtml;\n",
              "          element.appendChild(docLink);\n",
              "        }\n",
              "      </script>\n",
              "    </div>\n",
              "  </div>\n",
              "  "
            ],
            "text/plain": [
              "   Country   Age   Salary Purchased\n",
              "0   France  44.0  72000.0        No\n",
              "1    Spain  27.0  48000.0       Yes\n",
              "2  Germany  30.0  54000.0        No\n",
              "3    Spain  38.0  61000.0        No\n",
              "4  Germany  40.0      NaN       Yes\n",
              "5   France  35.0  58000.0       Yes\n",
              "6    Spain   NaN  52000.0        No\n",
              "7   France  48.0  79000.0       Yes\n",
              "8  Germany  50.0  83000.0        No\n",
              "9   France  37.0  67000.0       Yes"
            ]
          },
          "execution_count": 7,
          "metadata": {},
          "output_type": "execute_result"
        }
      ],
      "source": [
        "dataset = pd.read_csv('Data.csv') #takes filename as argument\n",
        "dataset"
      ]
    },
    {
      "cell_type": "markdown",
      "metadata": {
        "id": "ZjZSkdTmPbJ_"
      },
      "source": [
        "### **3. Exporting Data**\n",
        "\n",
        "Once you are done manipulating or analyzing data, and want to export it back into a `.csv` file, \n",
        "This can easily be done by using `.to_csv()` or spreadsheet format using `.to_excel()`."
      ]
    },
    {
      "cell_type": "code",
      "execution_count": null,
      "metadata": {
        "id": "9YmgP62lRHAo"
      },
      "outputs": [],
      "source": [
        "dataset.to_csv() #the argument here will be the name you want the new csv file to have"
      ]
    },
    {
      "cell_type": "markdown",
      "metadata": {
        "id": "gXyVisB0RsOW"
      },
      "source": [
        "Running the above line will save the `.csv` file with the specified name in the current folder."
      ]
    },
    {
      "cell_type": "markdown",
      "metadata": {
        "id": "-2pDuNHNR4tj"
      },
      "source": [
        "### **4. Describing Data**\n",
        "\n",
        "pandas has many built in functions which allow you to quickly get information about a DataFrame.\n",
        "\n",
        "Let's explore some using our dataset.**bold text**"
      ]
    },
    {
      "cell_type": "code",
      "execution_count": 8,
      "metadata": {
        "colab": {
          "base_uri": "https://localhost:8080/",
          "height": 359
        },
        "id": "7S7xTxGfTNTW",
        "outputId": "d91cfb29-b37b-4ea5-c332-6b4e1ee94fe2"
      },
      "outputs": [
        {
          "data": {
            "text/html": [
              "\n",
              "  <div id=\"df-0aecf795-64b0-49c6-991c-8b555ed1ea1a\">\n",
              "    <div class=\"colab-df-container\">\n",
              "      <div>\n",
              "<style scoped>\n",
              "    .dataframe tbody tr th:only-of-type {\n",
              "        vertical-align: middle;\n",
              "    }\n",
              "\n",
              "    .dataframe tbody tr th {\n",
              "        vertical-align: top;\n",
              "    }\n",
              "\n",
              "    .dataframe thead th {\n",
              "        text-align: right;\n",
              "    }\n",
              "</style>\n",
              "<table border=\"1\" class=\"dataframe\">\n",
              "  <thead>\n",
              "    <tr style=\"text-align: right;\">\n",
              "      <th></th>\n",
              "      <th>Country</th>\n",
              "      <th>Age</th>\n",
              "      <th>Salary</th>\n",
              "      <th>Purchased</th>\n",
              "    </tr>\n",
              "  </thead>\n",
              "  <tbody>\n",
              "    <tr>\n",
              "      <th>0</th>\n",
              "      <td>France</td>\n",
              "      <td>44.0</td>\n",
              "      <td>72000.0</td>\n",
              "      <td>No</td>\n",
              "    </tr>\n",
              "    <tr>\n",
              "      <th>1</th>\n",
              "      <td>Spain</td>\n",
              "      <td>27.0</td>\n",
              "      <td>48000.0</td>\n",
              "      <td>Yes</td>\n",
              "    </tr>\n",
              "    <tr>\n",
              "      <th>2</th>\n",
              "      <td>Germany</td>\n",
              "      <td>30.0</td>\n",
              "      <td>54000.0</td>\n",
              "      <td>No</td>\n",
              "    </tr>\n",
              "    <tr>\n",
              "      <th>3</th>\n",
              "      <td>Spain</td>\n",
              "      <td>38.0</td>\n",
              "      <td>61000.0</td>\n",
              "      <td>No</td>\n",
              "    </tr>\n",
              "    <tr>\n",
              "      <th>4</th>\n",
              "      <td>Germany</td>\n",
              "      <td>40.0</td>\n",
              "      <td>NaN</td>\n",
              "      <td>Yes</td>\n",
              "    </tr>\n",
              "    <tr>\n",
              "      <th>5</th>\n",
              "      <td>France</td>\n",
              "      <td>35.0</td>\n",
              "      <td>58000.0</td>\n",
              "      <td>Yes</td>\n",
              "    </tr>\n",
              "    <tr>\n",
              "      <th>6</th>\n",
              "      <td>Spain</td>\n",
              "      <td>NaN</td>\n",
              "      <td>52000.0</td>\n",
              "      <td>No</td>\n",
              "    </tr>\n",
              "    <tr>\n",
              "      <th>7</th>\n",
              "      <td>France</td>\n",
              "      <td>48.0</td>\n",
              "      <td>79000.0</td>\n",
              "      <td>Yes</td>\n",
              "    </tr>\n",
              "    <tr>\n",
              "      <th>8</th>\n",
              "      <td>Germany</td>\n",
              "      <td>50.0</td>\n",
              "      <td>83000.0</td>\n",
              "      <td>No</td>\n",
              "    </tr>\n",
              "    <tr>\n",
              "      <th>9</th>\n",
              "      <td>France</td>\n",
              "      <td>37.0</td>\n",
              "      <td>67000.0</td>\n",
              "      <td>Yes</td>\n",
              "    </tr>\n",
              "  </tbody>\n",
              "</table>\n",
              "</div>\n",
              "      <button class=\"colab-df-convert\" onclick=\"convertToInteractive('df-0aecf795-64b0-49c6-991c-8b555ed1ea1a')\"\n",
              "              title=\"Convert this dataframe to an interactive table.\"\n",
              "              style=\"display:none;\">\n",
              "        \n",
              "  <svg xmlns=\"http://www.w3.org/2000/svg\" height=\"24px\"viewBox=\"0 0 24 24\"\n",
              "       width=\"24px\">\n",
              "    <path d=\"M0 0h24v24H0V0z\" fill=\"none\"/>\n",
              "    <path d=\"M18.56 5.44l.94 2.06.94-2.06 2.06-.94-2.06-.94-.94-2.06-.94 2.06-2.06.94zm-11 1L8.5 8.5l.94-2.06 2.06-.94-2.06-.94L8.5 2.5l-.94 2.06-2.06.94zm10 10l.94 2.06.94-2.06 2.06-.94-2.06-.94-.94-2.06-.94 2.06-2.06.94z\"/><path d=\"M17.41 7.96l-1.37-1.37c-.4-.4-.92-.59-1.43-.59-.52 0-1.04.2-1.43.59L10.3 9.45l-7.72 7.72c-.78.78-.78 2.05 0 2.83L4 21.41c.39.39.9.59 1.41.59.51 0 1.02-.2 1.41-.59l7.78-7.78 2.81-2.81c.8-.78.8-2.07 0-2.86zM5.41 20L4 18.59l7.72-7.72 1.47 1.35L5.41 20z\"/>\n",
              "  </svg>\n",
              "      </button>\n",
              "      \n",
              "  <style>\n",
              "    .colab-df-container {\n",
              "      display:flex;\n",
              "      flex-wrap:wrap;\n",
              "      gap: 12px;\n",
              "    }\n",
              "\n",
              "    .colab-df-convert {\n",
              "      background-color: #E8F0FE;\n",
              "      border: none;\n",
              "      border-radius: 50%;\n",
              "      cursor: pointer;\n",
              "      display: none;\n",
              "      fill: #1967D2;\n",
              "      height: 32px;\n",
              "      padding: 0 0 0 0;\n",
              "      width: 32px;\n",
              "    }\n",
              "\n",
              "    .colab-df-convert:hover {\n",
              "      background-color: #E2EBFA;\n",
              "      box-shadow: 0px 1px 2px rgba(60, 64, 67, 0.3), 0px 1px 3px 1px rgba(60, 64, 67, 0.15);\n",
              "      fill: #174EA6;\n",
              "    }\n",
              "\n",
              "    [theme=dark] .colab-df-convert {\n",
              "      background-color: #3B4455;\n",
              "      fill: #D2E3FC;\n",
              "    }\n",
              "\n",
              "    [theme=dark] .colab-df-convert:hover {\n",
              "      background-color: #434B5C;\n",
              "      box-shadow: 0px 1px 3px 1px rgba(0, 0, 0, 0.15);\n",
              "      filter: drop-shadow(0px 1px 2px rgba(0, 0, 0, 0.3));\n",
              "      fill: #FFFFFF;\n",
              "    }\n",
              "  </style>\n",
              "\n",
              "      <script>\n",
              "        const buttonEl =\n",
              "          document.querySelector('#df-0aecf795-64b0-49c6-991c-8b555ed1ea1a button.colab-df-convert');\n",
              "        buttonEl.style.display =\n",
              "          google.colab.kernel.accessAllowed ? 'block' : 'none';\n",
              "\n",
              "        async function convertToInteractive(key) {\n",
              "          const element = document.querySelector('#df-0aecf795-64b0-49c6-991c-8b555ed1ea1a');\n",
              "          const dataTable =\n",
              "            await google.colab.kernel.invokeFunction('convertToInteractive',\n",
              "                                                     [key], {});\n",
              "          if (!dataTable) return;\n",
              "\n",
              "          const docLinkHtml = 'Like what you see? Visit the ' +\n",
              "            '<a target=\"_blank\" href=https://colab.research.google.com/notebooks/data_table.ipynb>data table notebook</a>'\n",
              "            + ' to learn more about interactive tables.';\n",
              "          element.innerHTML = '';\n",
              "          dataTable['output_type'] = 'display_data';\n",
              "          await google.colab.output.renderOutput(dataTable, element);\n",
              "          const docLink = document.createElement('div');\n",
              "          docLink.innerHTML = docLinkHtml;\n",
              "          element.appendChild(docLink);\n",
              "        }\n",
              "      </script>\n",
              "    </div>\n",
              "  </div>\n",
              "  "
            ],
            "text/plain": [
              "   Country   Age   Salary Purchased\n",
              "0   France  44.0  72000.0        No\n",
              "1    Spain  27.0  48000.0       Yes\n",
              "2  Germany  30.0  54000.0        No\n",
              "3    Spain  38.0  61000.0        No\n",
              "4  Germany  40.0      NaN       Yes\n",
              "5   France  35.0  58000.0       Yes\n",
              "6    Spain   NaN  52000.0        No\n",
              "7   France  48.0  79000.0       Yes\n",
              "8  Germany  50.0  83000.0        No\n",
              "9   France  37.0  67000.0       Yes"
            ]
          },
          "execution_count": 8,
          "metadata": {},
          "output_type": "execute_result"
        }
      ],
      "source": [
        "dataset"
      ]
    },
    {
      "cell_type": "markdown",
      "metadata": {
        "id": "_8k-QerUTUeg"
      },
      "source": [
        "`.dtypes` shows us what datatype each column contains."
      ]
    },
    {
      "cell_type": "code",
      "execution_count": 9,
      "metadata": {
        "colab": {
          "base_uri": "https://localhost:8080/"
        },
        "id": "2DhSGuwETYOV",
        "outputId": "2bc3aaf1-bf91-476c-88bc-98c8642f9f74"
      },
      "outputs": [
        {
          "data": {
            "text/plain": [
              "Country       object\n",
              "Age          float64\n",
              "Salary       float64\n",
              "Purchased     object\n",
              "dtype: object"
            ]
          },
          "execution_count": 9,
          "metadata": {},
          "output_type": "execute_result"
        }
      ],
      "source": [
        "dataset.dtypes"
      ]
    },
    {
      "cell_type": "markdown",
      "metadata": {
        "id": "7AQEk37TTlhI"
      },
      "source": [
        "`.describe()` gives you a quick statistical overview of the numerical columns."
      ]
    },
    {
      "cell_type": "code",
      "execution_count": 10,
      "metadata": {
        "colab": {
          "base_uri": "https://localhost:8080/",
          "height": 297
        },
        "id": "4bsvk2CZToj6",
        "outputId": "cb4acaa4-4502-4667-95bf-92ef4ffe6eb9"
      },
      "outputs": [
        {
          "data": {
            "text/html": [
              "\n",
              "  <div id=\"df-9c021ea0-92b4-4beb-8343-77b987e4773d\">\n",
              "    <div class=\"colab-df-container\">\n",
              "      <div>\n",
              "<style scoped>\n",
              "    .dataframe tbody tr th:only-of-type {\n",
              "        vertical-align: middle;\n",
              "    }\n",
              "\n",
              "    .dataframe tbody tr th {\n",
              "        vertical-align: top;\n",
              "    }\n",
              "\n",
              "    .dataframe thead th {\n",
              "        text-align: right;\n",
              "    }\n",
              "</style>\n",
              "<table border=\"1\" class=\"dataframe\">\n",
              "  <thead>\n",
              "    <tr style=\"text-align: right;\">\n",
              "      <th></th>\n",
              "      <th>Age</th>\n",
              "      <th>Salary</th>\n",
              "    </tr>\n",
              "  </thead>\n",
              "  <tbody>\n",
              "    <tr>\n",
              "      <th>count</th>\n",
              "      <td>9.000000</td>\n",
              "      <td>9.000000</td>\n",
              "    </tr>\n",
              "    <tr>\n",
              "      <th>mean</th>\n",
              "      <td>38.777778</td>\n",
              "      <td>63777.777778</td>\n",
              "    </tr>\n",
              "    <tr>\n",
              "      <th>std</th>\n",
              "      <td>7.693793</td>\n",
              "      <td>12265.579662</td>\n",
              "    </tr>\n",
              "    <tr>\n",
              "      <th>min</th>\n",
              "      <td>27.000000</td>\n",
              "      <td>48000.000000</td>\n",
              "    </tr>\n",
              "    <tr>\n",
              "      <th>25%</th>\n",
              "      <td>35.000000</td>\n",
              "      <td>54000.000000</td>\n",
              "    </tr>\n",
              "    <tr>\n",
              "      <th>50%</th>\n",
              "      <td>38.000000</td>\n",
              "      <td>61000.000000</td>\n",
              "    </tr>\n",
              "    <tr>\n",
              "      <th>75%</th>\n",
              "      <td>44.000000</td>\n",
              "      <td>72000.000000</td>\n",
              "    </tr>\n",
              "    <tr>\n",
              "      <th>max</th>\n",
              "      <td>50.000000</td>\n",
              "      <td>83000.000000</td>\n",
              "    </tr>\n",
              "  </tbody>\n",
              "</table>\n",
              "</div>\n",
              "      <button class=\"colab-df-convert\" onclick=\"convertToInteractive('df-9c021ea0-92b4-4beb-8343-77b987e4773d')\"\n",
              "              title=\"Convert this dataframe to an interactive table.\"\n",
              "              style=\"display:none;\">\n",
              "        \n",
              "  <svg xmlns=\"http://www.w3.org/2000/svg\" height=\"24px\"viewBox=\"0 0 24 24\"\n",
              "       width=\"24px\">\n",
              "    <path d=\"M0 0h24v24H0V0z\" fill=\"none\"/>\n",
              "    <path d=\"M18.56 5.44l.94 2.06.94-2.06 2.06-.94-2.06-.94-.94-2.06-.94 2.06-2.06.94zm-11 1L8.5 8.5l.94-2.06 2.06-.94-2.06-.94L8.5 2.5l-.94 2.06-2.06.94zm10 10l.94 2.06.94-2.06 2.06-.94-2.06-.94-.94-2.06-.94 2.06-2.06.94z\"/><path d=\"M17.41 7.96l-1.37-1.37c-.4-.4-.92-.59-1.43-.59-.52 0-1.04.2-1.43.59L10.3 9.45l-7.72 7.72c-.78.78-.78 2.05 0 2.83L4 21.41c.39.39.9.59 1.41.59.51 0 1.02-.2 1.41-.59l7.78-7.78 2.81-2.81c.8-.78.8-2.07 0-2.86zM5.41 20L4 18.59l7.72-7.72 1.47 1.35L5.41 20z\"/>\n",
              "  </svg>\n",
              "      </button>\n",
              "      \n",
              "  <style>\n",
              "    .colab-df-container {\n",
              "      display:flex;\n",
              "      flex-wrap:wrap;\n",
              "      gap: 12px;\n",
              "    }\n",
              "\n",
              "    .colab-df-convert {\n",
              "      background-color: #E8F0FE;\n",
              "      border: none;\n",
              "      border-radius: 50%;\n",
              "      cursor: pointer;\n",
              "      display: none;\n",
              "      fill: #1967D2;\n",
              "      height: 32px;\n",
              "      padding: 0 0 0 0;\n",
              "      width: 32px;\n",
              "    }\n",
              "\n",
              "    .colab-df-convert:hover {\n",
              "      background-color: #E2EBFA;\n",
              "      box-shadow: 0px 1px 2px rgba(60, 64, 67, 0.3), 0px 1px 3px 1px rgba(60, 64, 67, 0.15);\n",
              "      fill: #174EA6;\n",
              "    }\n",
              "\n",
              "    [theme=dark] .colab-df-convert {\n",
              "      background-color: #3B4455;\n",
              "      fill: #D2E3FC;\n",
              "    }\n",
              "\n",
              "    [theme=dark] .colab-df-convert:hover {\n",
              "      background-color: #434B5C;\n",
              "      box-shadow: 0px 1px 3px 1px rgba(0, 0, 0, 0.15);\n",
              "      filter: drop-shadow(0px 1px 2px rgba(0, 0, 0, 0.3));\n",
              "      fill: #FFFFFF;\n",
              "    }\n",
              "  </style>\n",
              "\n",
              "      <script>\n",
              "        const buttonEl =\n",
              "          document.querySelector('#df-9c021ea0-92b4-4beb-8343-77b987e4773d button.colab-df-convert');\n",
              "        buttonEl.style.display =\n",
              "          google.colab.kernel.accessAllowed ? 'block' : 'none';\n",
              "\n",
              "        async function convertToInteractive(key) {\n",
              "          const element = document.querySelector('#df-9c021ea0-92b4-4beb-8343-77b987e4773d');\n",
              "          const dataTable =\n",
              "            await google.colab.kernel.invokeFunction('convertToInteractive',\n",
              "                                                     [key], {});\n",
              "          if (!dataTable) return;\n",
              "\n",
              "          const docLinkHtml = 'Like what you see? Visit the ' +\n",
              "            '<a target=\"_blank\" href=https://colab.research.google.com/notebooks/data_table.ipynb>data table notebook</a>'\n",
              "            + ' to learn more about interactive tables.';\n",
              "          element.innerHTML = '';\n",
              "          dataTable['output_type'] = 'display_data';\n",
              "          await google.colab.output.renderOutput(dataTable, element);\n",
              "          const docLink = document.createElement('div');\n",
              "          docLink.innerHTML = docLinkHtml;\n",
              "          element.appendChild(docLink);\n",
              "        }\n",
              "      </script>\n",
              "    </div>\n",
              "  </div>\n",
              "  "
            ],
            "text/plain": [
              "             Age        Salary\n",
              "count   9.000000      9.000000\n",
              "mean   38.777778  63777.777778\n",
              "std     7.693793  12265.579662\n",
              "min    27.000000  48000.000000\n",
              "25%    35.000000  54000.000000\n",
              "50%    38.000000  61000.000000\n",
              "75%    44.000000  72000.000000\n",
              "max    50.000000  83000.000000"
            ]
          },
          "execution_count": 10,
          "metadata": {},
          "output_type": "execute_result"
        }
      ],
      "source": [
        "dataset.describe()"
      ]
    },
    {
      "cell_type": "markdown",
      "metadata": {
        "id": "cezd-wB3Tu8Q"
      },
      "source": [
        "`.info()` shows a handful of useful information about a DataFrame such as:\n",
        "\n",
        "\n",
        "\n",
        "1.   How many entries (rows) there are\n",
        "2.   Whether there are missing values (if a columns non-null value is less than the number of entries, it has missing values)\n",
        "3. The datatypes of each column"
      ]
    },
    {
      "cell_type": "code",
      "execution_count": 11,
      "metadata": {
        "colab": {
          "base_uri": "https://localhost:8080/"
        },
        "id": "B7wo9qpOUjVY",
        "outputId": "ee3c6fc8-7f3b-4eab-fb08-4a1689857c8f"
      },
      "outputs": [
        {
          "name": "stdout",
          "output_type": "stream",
          "text": [
            "<class 'pandas.core.frame.DataFrame'>\n",
            "RangeIndex: 10 entries, 0 to 9\n",
            "Data columns (total 4 columns):\n",
            " #   Column     Non-Null Count  Dtype  \n",
            "---  ------     --------------  -----  \n",
            " 0   Country    10 non-null     object \n",
            " 1   Age        9 non-null      float64\n",
            " 2   Salary     9 non-null      float64\n",
            " 3   Purchased  10 non-null     object \n",
            "dtypes: float64(2), object(2)\n",
            "memory usage: 448.0+ bytes\n"
          ]
        }
      ],
      "source": [
        "dataset.info()"
      ]
    },
    {
      "cell_type": "markdown",
      "metadata": {
        "id": "X_LaEyShUuG6"
      },
      "source": [
        "You can also call various statistical and mathematical methods such as `.mean()` or `.sum()` directly on a `DataFrame` or `Series`."
      ]
    },
    {
      "cell_type": "code",
      "execution_count": 12,
      "metadata": {
        "colab": {
          "base_uri": "https://localhost:8080/"
        },
        "id": "05EhDlQuU0tq",
        "outputId": "64710bba-3cbf-417e-9693-490348afeb63"
      },
      "outputs": [
        {
          "name": "stderr",
          "output_type": "stream",
          "text": [
            "/usr/local/lib/python3.7/dist-packages/ipykernel_launcher.py:1: FutureWarning: Dropping of nuisance columns in DataFrame reductions (with 'numeric_only=None') is deprecated; in a future version this will raise TypeError.  Select only valid columns before calling the reduction.\n",
            "  \"\"\"Entry point for launching an IPython kernel.\n"
          ]
        },
        {
          "data": {
            "text/plain": [
              "Age          38.777778\n",
              "Salary    63777.777778\n",
              "dtype: float64"
            ]
          },
          "execution_count": 12,
          "metadata": {},
          "output_type": "execute_result"
        }
      ],
      "source": [
        "dataset.mean()"
      ]
    },
    {
      "cell_type": "code",
      "execution_count": 13,
      "metadata": {
        "colab": {
          "base_uri": "https://localhost:8080/"
        },
        "id": "laipp1WMU5lX",
        "outputId": "3f10a8f9-b313-426c-b554-23332d4f4412"
      },
      "outputs": [
        {
          "data": {
            "text/plain": [
              "Country      FranceSpainGermanySpainGermanyFranceSpainFranc...\n",
              "Age                                                      349.0\n",
              "Salary                                                574000.0\n",
              "Purchased                            NoYesNoNoYesYesNoYesNoYes\n",
              "dtype: object"
            ]
          },
          "execution_count": 13,
          "metadata": {},
          "output_type": "execute_result"
        }
      ],
      "source": [
        "dataset.sum()"
      ]
    },
    {
      "cell_type": "markdown",
      "metadata": {
        "id": "HhnxIG-7U9g6"
      },
      "source": [
        "Calling these on a whole `DataFrame` may not be as helpful as targeting an individual column. But it's helpful to know they're there.\n",
        "\n",
        "`.columns` will show you all the columns of a DataFrame."
      ]
    },
    {
      "cell_type": "code",
      "execution_count": 14,
      "metadata": {
        "colab": {
          "base_uri": "https://localhost:8080/"
        },
        "id": "IlyFqbZRVNcM",
        "outputId": "2aaf44c8-b172-4c18-b087-52aeb23456d7"
      },
      "outputs": [
        {
          "data": {
            "text/plain": [
              "Index(['Country', 'Age', 'Salary', 'Purchased'], dtype='object')"
            ]
          },
          "execution_count": 14,
          "metadata": {},
          "output_type": "execute_result"
        }
      ],
      "source": [
        "dataset.columns"
      ]
    },
    {
      "cell_type": "markdown",
      "metadata": {
        "id": "8Uk9s0-KYeaZ"
      },
      "source": [
        "`.column` returns a list, so it can be stored for later use.\n",
        "\n",
        "`.index` will show you the values in a DataFrame's index (the column on the far left)."
      ]
    },
    {
      "cell_type": "code",
      "execution_count": 15,
      "metadata": {
        "colab": {
          "base_uri": "https://localhost:8080/"
        },
        "id": "KEZpuCMyY5bv",
        "outputId": "5c75ea18-0e51-42fc-88f4-d02fc06c2412"
      },
      "outputs": [
        {
          "data": {
            "text/plain": [
              "RangeIndex(start=0, stop=10, step=1)"
            ]
          },
          "execution_count": 15,
          "metadata": {},
          "output_type": "execute_result"
        }
      ],
      "source": [
        "dataset.index"
      ]
    },
    {
      "cell_type": "markdown",
      "metadata": {
        "id": "uFcIumQ-ZQ09"
      },
      "source": [
        "### **5. Viewing and Selecting Data**\n",
        "\n",
        "`.head()` allows you to view the first 5 rows of your `DataFrame`."
      ]
    },
    {
      "cell_type": "code",
      "execution_count": 16,
      "metadata": {
        "colab": {
          "base_uri": "https://localhost:8080/",
          "height": 204
        },
        "id": "145dRynhZ-W_",
        "outputId": "cebf1043-cd3b-44d8-b808-d3e7be434fd9"
      },
      "outputs": [
        {
          "data": {
            "text/html": [
              "\n",
              "  <div id=\"df-627237b0-aafc-4dea-822b-5add0769658c\">\n",
              "    <div class=\"colab-df-container\">\n",
              "      <div>\n",
              "<style scoped>\n",
              "    .dataframe tbody tr th:only-of-type {\n",
              "        vertical-align: middle;\n",
              "    }\n",
              "\n",
              "    .dataframe tbody tr th {\n",
              "        vertical-align: top;\n",
              "    }\n",
              "\n",
              "    .dataframe thead th {\n",
              "        text-align: right;\n",
              "    }\n",
              "</style>\n",
              "<table border=\"1\" class=\"dataframe\">\n",
              "  <thead>\n",
              "    <tr style=\"text-align: right;\">\n",
              "      <th></th>\n",
              "      <th>Country</th>\n",
              "      <th>Age</th>\n",
              "      <th>Salary</th>\n",
              "      <th>Purchased</th>\n",
              "    </tr>\n",
              "  </thead>\n",
              "  <tbody>\n",
              "    <tr>\n",
              "      <th>0</th>\n",
              "      <td>France</td>\n",
              "      <td>44.0</td>\n",
              "      <td>72000.0</td>\n",
              "      <td>No</td>\n",
              "    </tr>\n",
              "    <tr>\n",
              "      <th>1</th>\n",
              "      <td>Spain</td>\n",
              "      <td>27.0</td>\n",
              "      <td>48000.0</td>\n",
              "      <td>Yes</td>\n",
              "    </tr>\n",
              "    <tr>\n",
              "      <th>2</th>\n",
              "      <td>Germany</td>\n",
              "      <td>30.0</td>\n",
              "      <td>54000.0</td>\n",
              "      <td>No</td>\n",
              "    </tr>\n",
              "    <tr>\n",
              "      <th>3</th>\n",
              "      <td>Spain</td>\n",
              "      <td>38.0</td>\n",
              "      <td>61000.0</td>\n",
              "      <td>No</td>\n",
              "    </tr>\n",
              "    <tr>\n",
              "      <th>4</th>\n",
              "      <td>Germany</td>\n",
              "      <td>40.0</td>\n",
              "      <td>NaN</td>\n",
              "      <td>Yes</td>\n",
              "    </tr>\n",
              "  </tbody>\n",
              "</table>\n",
              "</div>\n",
              "      <button class=\"colab-df-convert\" onclick=\"convertToInteractive('df-627237b0-aafc-4dea-822b-5add0769658c')\"\n",
              "              title=\"Convert this dataframe to an interactive table.\"\n",
              "              style=\"display:none;\">\n",
              "        \n",
              "  <svg xmlns=\"http://www.w3.org/2000/svg\" height=\"24px\"viewBox=\"0 0 24 24\"\n",
              "       width=\"24px\">\n",
              "    <path d=\"M0 0h24v24H0V0z\" fill=\"none\"/>\n",
              "    <path d=\"M18.56 5.44l.94 2.06.94-2.06 2.06-.94-2.06-.94-.94-2.06-.94 2.06-2.06.94zm-11 1L8.5 8.5l.94-2.06 2.06-.94-2.06-.94L8.5 2.5l-.94 2.06-2.06.94zm10 10l.94 2.06.94-2.06 2.06-.94-2.06-.94-.94-2.06-.94 2.06-2.06.94z\"/><path d=\"M17.41 7.96l-1.37-1.37c-.4-.4-.92-.59-1.43-.59-.52 0-1.04.2-1.43.59L10.3 9.45l-7.72 7.72c-.78.78-.78 2.05 0 2.83L4 21.41c.39.39.9.59 1.41.59.51 0 1.02-.2 1.41-.59l7.78-7.78 2.81-2.81c.8-.78.8-2.07 0-2.86zM5.41 20L4 18.59l7.72-7.72 1.47 1.35L5.41 20z\"/>\n",
              "  </svg>\n",
              "      </button>\n",
              "      \n",
              "  <style>\n",
              "    .colab-df-container {\n",
              "      display:flex;\n",
              "      flex-wrap:wrap;\n",
              "      gap: 12px;\n",
              "    }\n",
              "\n",
              "    .colab-df-convert {\n",
              "      background-color: #E8F0FE;\n",
              "      border: none;\n",
              "      border-radius: 50%;\n",
              "      cursor: pointer;\n",
              "      display: none;\n",
              "      fill: #1967D2;\n",
              "      height: 32px;\n",
              "      padding: 0 0 0 0;\n",
              "      width: 32px;\n",
              "    }\n",
              "\n",
              "    .colab-df-convert:hover {\n",
              "      background-color: #E2EBFA;\n",
              "      box-shadow: 0px 1px 2px rgba(60, 64, 67, 0.3), 0px 1px 3px 1px rgba(60, 64, 67, 0.15);\n",
              "      fill: #174EA6;\n",
              "    }\n",
              "\n",
              "    [theme=dark] .colab-df-convert {\n",
              "      background-color: #3B4455;\n",
              "      fill: #D2E3FC;\n",
              "    }\n",
              "\n",
              "    [theme=dark] .colab-df-convert:hover {\n",
              "      background-color: #434B5C;\n",
              "      box-shadow: 0px 1px 3px 1px rgba(0, 0, 0, 0.15);\n",
              "      filter: drop-shadow(0px 1px 2px rgba(0, 0, 0, 0.3));\n",
              "      fill: #FFFFFF;\n",
              "    }\n",
              "  </style>\n",
              "\n",
              "      <script>\n",
              "        const buttonEl =\n",
              "          document.querySelector('#df-627237b0-aafc-4dea-822b-5add0769658c button.colab-df-convert');\n",
              "        buttonEl.style.display =\n",
              "          google.colab.kernel.accessAllowed ? 'block' : 'none';\n",
              "\n",
              "        async function convertToInteractive(key) {\n",
              "          const element = document.querySelector('#df-627237b0-aafc-4dea-822b-5add0769658c');\n",
              "          const dataTable =\n",
              "            await google.colab.kernel.invokeFunction('convertToInteractive',\n",
              "                                                     [key], {});\n",
              "          if (!dataTable) return;\n",
              "\n",
              "          const docLinkHtml = 'Like what you see? Visit the ' +\n",
              "            '<a target=\"_blank\" href=https://colab.research.google.com/notebooks/data_table.ipynb>data table notebook</a>'\n",
              "            + ' to learn more about interactive tables.';\n",
              "          element.innerHTML = '';\n",
              "          dataTable['output_type'] = 'display_data';\n",
              "          await google.colab.output.renderOutput(dataTable, element);\n",
              "          const docLink = document.createElement('div');\n",
              "          docLink.innerHTML = docLinkHtml;\n",
              "          element.appendChild(docLink);\n",
              "        }\n",
              "      </script>\n",
              "    </div>\n",
              "  </div>\n",
              "  "
            ],
            "text/plain": [
              "   Country   Age   Salary Purchased\n",
              "0   France  44.0  72000.0        No\n",
              "1    Spain  27.0  48000.0       Yes\n",
              "2  Germany  30.0  54000.0        No\n",
              "3    Spain  38.0  61000.0        No\n",
              "4  Germany  40.0      NaN       Yes"
            ]
          },
          "execution_count": 16,
          "metadata": {},
          "output_type": "execute_result"
        }
      ],
      "source": [
        "dataset.head()"
      ]
    },
    {
      "cell_type": "markdown",
      "metadata": {
        "id": "Ee-SyiSNaDCf"
      },
      "source": [
        "`.tail()` allows you to view the last 5 rows of your `DataFrame`."
      ]
    },
    {
      "cell_type": "code",
      "execution_count": 18,
      "metadata": {
        "colab": {
          "base_uri": "https://localhost:8080/",
          "height": 204
        },
        "id": "fBLF21DRaKRS",
        "outputId": "fc9fa6b5-22d0-4ad3-ca61-e3a0619a4ae6"
      },
      "outputs": [
        {
          "data": {
            "text/html": [
              "\n",
              "  <div id=\"df-5f013f6f-a02e-4957-93bf-d1e5989882e4\">\n",
              "    <div class=\"colab-df-container\">\n",
              "      <div>\n",
              "<style scoped>\n",
              "    .dataframe tbody tr th:only-of-type {\n",
              "        vertical-align: middle;\n",
              "    }\n",
              "\n",
              "    .dataframe tbody tr th {\n",
              "        vertical-align: top;\n",
              "    }\n",
              "\n",
              "    .dataframe thead th {\n",
              "        text-align: right;\n",
              "    }\n",
              "</style>\n",
              "<table border=\"1\" class=\"dataframe\">\n",
              "  <thead>\n",
              "    <tr style=\"text-align: right;\">\n",
              "      <th></th>\n",
              "      <th>Country</th>\n",
              "      <th>Age</th>\n",
              "      <th>Salary</th>\n",
              "      <th>Purchased</th>\n",
              "    </tr>\n",
              "  </thead>\n",
              "  <tbody>\n",
              "    <tr>\n",
              "      <th>5</th>\n",
              "      <td>France</td>\n",
              "      <td>35.0</td>\n",
              "      <td>58000.0</td>\n",
              "      <td>Yes</td>\n",
              "    </tr>\n",
              "    <tr>\n",
              "      <th>6</th>\n",
              "      <td>Spain</td>\n",
              "      <td>NaN</td>\n",
              "      <td>52000.0</td>\n",
              "      <td>No</td>\n",
              "    </tr>\n",
              "    <tr>\n",
              "      <th>7</th>\n",
              "      <td>France</td>\n",
              "      <td>48.0</td>\n",
              "      <td>79000.0</td>\n",
              "      <td>Yes</td>\n",
              "    </tr>\n",
              "    <tr>\n",
              "      <th>8</th>\n",
              "      <td>Germany</td>\n",
              "      <td>50.0</td>\n",
              "      <td>83000.0</td>\n",
              "      <td>No</td>\n",
              "    </tr>\n",
              "    <tr>\n",
              "      <th>9</th>\n",
              "      <td>France</td>\n",
              "      <td>37.0</td>\n",
              "      <td>67000.0</td>\n",
              "      <td>Yes</td>\n",
              "    </tr>\n",
              "  </tbody>\n",
              "</table>\n",
              "</div>\n",
              "      <button class=\"colab-df-convert\" onclick=\"convertToInteractive('df-5f013f6f-a02e-4957-93bf-d1e5989882e4')\"\n",
              "              title=\"Convert this dataframe to an interactive table.\"\n",
              "              style=\"display:none;\">\n",
              "        \n",
              "  <svg xmlns=\"http://www.w3.org/2000/svg\" height=\"24px\"viewBox=\"0 0 24 24\"\n",
              "       width=\"24px\">\n",
              "    <path d=\"M0 0h24v24H0V0z\" fill=\"none\"/>\n",
              "    <path d=\"M18.56 5.44l.94 2.06.94-2.06 2.06-.94-2.06-.94-.94-2.06-.94 2.06-2.06.94zm-11 1L8.5 8.5l.94-2.06 2.06-.94-2.06-.94L8.5 2.5l-.94 2.06-2.06.94zm10 10l.94 2.06.94-2.06 2.06-.94-2.06-.94-.94-2.06-.94 2.06-2.06.94z\"/><path d=\"M17.41 7.96l-1.37-1.37c-.4-.4-.92-.59-1.43-.59-.52 0-1.04.2-1.43.59L10.3 9.45l-7.72 7.72c-.78.78-.78 2.05 0 2.83L4 21.41c.39.39.9.59 1.41.59.51 0 1.02-.2 1.41-.59l7.78-7.78 2.81-2.81c.8-.78.8-2.07 0-2.86zM5.41 20L4 18.59l7.72-7.72 1.47 1.35L5.41 20z\"/>\n",
              "  </svg>\n",
              "      </button>\n",
              "      \n",
              "  <style>\n",
              "    .colab-df-container {\n",
              "      display:flex;\n",
              "      flex-wrap:wrap;\n",
              "      gap: 12px;\n",
              "    }\n",
              "\n",
              "    .colab-df-convert {\n",
              "      background-color: #E8F0FE;\n",
              "      border: none;\n",
              "      border-radius: 50%;\n",
              "      cursor: pointer;\n",
              "      display: none;\n",
              "      fill: #1967D2;\n",
              "      height: 32px;\n",
              "      padding: 0 0 0 0;\n",
              "      width: 32px;\n",
              "    }\n",
              "\n",
              "    .colab-df-convert:hover {\n",
              "      background-color: #E2EBFA;\n",
              "      box-shadow: 0px 1px 2px rgba(60, 64, 67, 0.3), 0px 1px 3px 1px rgba(60, 64, 67, 0.15);\n",
              "      fill: #174EA6;\n",
              "    }\n",
              "\n",
              "    [theme=dark] .colab-df-convert {\n",
              "      background-color: #3B4455;\n",
              "      fill: #D2E3FC;\n",
              "    }\n",
              "\n",
              "    [theme=dark] .colab-df-convert:hover {\n",
              "      background-color: #434B5C;\n",
              "      box-shadow: 0px 1px 3px 1px rgba(0, 0, 0, 0.15);\n",
              "      filter: drop-shadow(0px 1px 2px rgba(0, 0, 0, 0.3));\n",
              "      fill: #FFFFFF;\n",
              "    }\n",
              "  </style>\n",
              "\n",
              "      <script>\n",
              "        const buttonEl =\n",
              "          document.querySelector('#df-5f013f6f-a02e-4957-93bf-d1e5989882e4 button.colab-df-convert');\n",
              "        buttonEl.style.display =\n",
              "          google.colab.kernel.accessAllowed ? 'block' : 'none';\n",
              "\n",
              "        async function convertToInteractive(key) {\n",
              "          const element = document.querySelector('#df-5f013f6f-a02e-4957-93bf-d1e5989882e4');\n",
              "          const dataTable =\n",
              "            await google.colab.kernel.invokeFunction('convertToInteractive',\n",
              "                                                     [key], {});\n",
              "          if (!dataTable) return;\n",
              "\n",
              "          const docLinkHtml = 'Like what you see? Visit the ' +\n",
              "            '<a target=\"_blank\" href=https://colab.research.google.com/notebooks/data_table.ipynb>data table notebook</a>'\n",
              "            + ' to learn more about interactive tables.';\n",
              "          element.innerHTML = '';\n",
              "          dataTable['output_type'] = 'display_data';\n",
              "          await google.colab.output.renderOutput(dataTable, element);\n",
              "          const docLink = document.createElement('div');\n",
              "          docLink.innerHTML = docLinkHtml;\n",
              "          element.appendChild(docLink);\n",
              "        }\n",
              "      </script>\n",
              "    </div>\n",
              "  </div>\n",
              "  "
            ],
            "text/plain": [
              "   Country   Age   Salary Purchased\n",
              "5   France  35.0  58000.0       Yes\n",
              "6    Spain   NaN  52000.0        No\n",
              "7   France  48.0  79000.0       Yes\n",
              "8  Germany  50.0  83000.0        No\n",
              "9   France  37.0  67000.0       Yes"
            ]
          },
          "execution_count": 18,
          "metadata": {},
          "output_type": "execute_result"
        }
      ],
      "source": [
        "dataset.tail()"
      ]
    },
    {
      "cell_type": "markdown",
      "metadata": {
        "id": "VIpUARYLaQ6Q"
      },
      "source": [
        "If you want a different value than 5, you can specifiy so in the parenthesis.\n"
      ]
    },
    {
      "cell_type": "code",
      "execution_count": 19,
      "metadata": {
        "colab": {
          "base_uri": "https://localhost:8080/",
          "height": 142
        },
        "id": "d30PevpjaVlx",
        "outputId": "1dd85c5b-062d-409d-dcb2-7fb58405bf38"
      },
      "outputs": [
        {
          "data": {
            "text/html": [
              "\n",
              "  <div id=\"df-e95b1ab5-be07-4324-b830-3abc9cbe9819\">\n",
              "    <div class=\"colab-df-container\">\n",
              "      <div>\n",
              "<style scoped>\n",
              "    .dataframe tbody tr th:only-of-type {\n",
              "        vertical-align: middle;\n",
              "    }\n",
              "\n",
              "    .dataframe tbody tr th {\n",
              "        vertical-align: top;\n",
              "    }\n",
              "\n",
              "    .dataframe thead th {\n",
              "        text-align: right;\n",
              "    }\n",
              "</style>\n",
              "<table border=\"1\" class=\"dataframe\">\n",
              "  <thead>\n",
              "    <tr style=\"text-align: right;\">\n",
              "      <th></th>\n",
              "      <th>Country</th>\n",
              "      <th>Age</th>\n",
              "      <th>Salary</th>\n",
              "      <th>Purchased</th>\n",
              "    </tr>\n",
              "  </thead>\n",
              "  <tbody>\n",
              "    <tr>\n",
              "      <th>0</th>\n",
              "      <td>France</td>\n",
              "      <td>44.0</td>\n",
              "      <td>72000.0</td>\n",
              "      <td>No</td>\n",
              "    </tr>\n",
              "    <tr>\n",
              "      <th>1</th>\n",
              "      <td>Spain</td>\n",
              "      <td>27.0</td>\n",
              "      <td>48000.0</td>\n",
              "      <td>Yes</td>\n",
              "    </tr>\n",
              "    <tr>\n",
              "      <th>2</th>\n",
              "      <td>Germany</td>\n",
              "      <td>30.0</td>\n",
              "      <td>54000.0</td>\n",
              "      <td>No</td>\n",
              "    </tr>\n",
              "  </tbody>\n",
              "</table>\n",
              "</div>\n",
              "      <button class=\"colab-df-convert\" onclick=\"convertToInteractive('df-e95b1ab5-be07-4324-b830-3abc9cbe9819')\"\n",
              "              title=\"Convert this dataframe to an interactive table.\"\n",
              "              style=\"display:none;\">\n",
              "        \n",
              "  <svg xmlns=\"http://www.w3.org/2000/svg\" height=\"24px\"viewBox=\"0 0 24 24\"\n",
              "       width=\"24px\">\n",
              "    <path d=\"M0 0h24v24H0V0z\" fill=\"none\"/>\n",
              "    <path d=\"M18.56 5.44l.94 2.06.94-2.06 2.06-.94-2.06-.94-.94-2.06-.94 2.06-2.06.94zm-11 1L8.5 8.5l.94-2.06 2.06-.94-2.06-.94L8.5 2.5l-.94 2.06-2.06.94zm10 10l.94 2.06.94-2.06 2.06-.94-2.06-.94-.94-2.06-.94 2.06-2.06.94z\"/><path d=\"M17.41 7.96l-1.37-1.37c-.4-.4-.92-.59-1.43-.59-.52 0-1.04.2-1.43.59L10.3 9.45l-7.72 7.72c-.78.78-.78 2.05 0 2.83L4 21.41c.39.39.9.59 1.41.59.51 0 1.02-.2 1.41-.59l7.78-7.78 2.81-2.81c.8-.78.8-2.07 0-2.86zM5.41 20L4 18.59l7.72-7.72 1.47 1.35L5.41 20z\"/>\n",
              "  </svg>\n",
              "      </button>\n",
              "      \n",
              "  <style>\n",
              "    .colab-df-container {\n",
              "      display:flex;\n",
              "      flex-wrap:wrap;\n",
              "      gap: 12px;\n",
              "    }\n",
              "\n",
              "    .colab-df-convert {\n",
              "      background-color: #E8F0FE;\n",
              "      border: none;\n",
              "      border-radius: 50%;\n",
              "      cursor: pointer;\n",
              "      display: none;\n",
              "      fill: #1967D2;\n",
              "      height: 32px;\n",
              "      padding: 0 0 0 0;\n",
              "      width: 32px;\n",
              "    }\n",
              "\n",
              "    .colab-df-convert:hover {\n",
              "      background-color: #E2EBFA;\n",
              "      box-shadow: 0px 1px 2px rgba(60, 64, 67, 0.3), 0px 1px 3px 1px rgba(60, 64, 67, 0.15);\n",
              "      fill: #174EA6;\n",
              "    }\n",
              "\n",
              "    [theme=dark] .colab-df-convert {\n",
              "      background-color: #3B4455;\n",
              "      fill: #D2E3FC;\n",
              "    }\n",
              "\n",
              "    [theme=dark] .colab-df-convert:hover {\n",
              "      background-color: #434B5C;\n",
              "      box-shadow: 0px 1px 3px 1px rgba(0, 0, 0, 0.15);\n",
              "      filter: drop-shadow(0px 1px 2px rgba(0, 0, 0, 0.3));\n",
              "      fill: #FFFFFF;\n",
              "    }\n",
              "  </style>\n",
              "\n",
              "      <script>\n",
              "        const buttonEl =\n",
              "          document.querySelector('#df-e95b1ab5-be07-4324-b830-3abc9cbe9819 button.colab-df-convert');\n",
              "        buttonEl.style.display =\n",
              "          google.colab.kernel.accessAllowed ? 'block' : 'none';\n",
              "\n",
              "        async function convertToInteractive(key) {\n",
              "          const element = document.querySelector('#df-e95b1ab5-be07-4324-b830-3abc9cbe9819');\n",
              "          const dataTable =\n",
              "            await google.colab.kernel.invokeFunction('convertToInteractive',\n",
              "                                                     [key], {});\n",
              "          if (!dataTable) return;\n",
              "\n",
              "          const docLinkHtml = 'Like what you see? Visit the ' +\n",
              "            '<a target=\"_blank\" href=https://colab.research.google.com/notebooks/data_table.ipynb>data table notebook</a>'\n",
              "            + ' to learn more about interactive tables.';\n",
              "          element.innerHTML = '';\n",
              "          dataTable['output_type'] = 'display_data';\n",
              "          await google.colab.output.renderOutput(dataTable, element);\n",
              "          const docLink = document.createElement('div');\n",
              "          docLink.innerHTML = docLinkHtml;\n",
              "          element.appendChild(docLink);\n",
              "        }\n",
              "      </script>\n",
              "    </div>\n",
              "  </div>\n",
              "  "
            ],
            "text/plain": [
              "   Country   Age   Salary Purchased\n",
              "0   France  44.0  72000.0        No\n",
              "1    Spain  27.0  48000.0       Yes\n",
              "2  Germany  30.0  54000.0        No"
            ]
          },
          "execution_count": 19,
          "metadata": {},
          "output_type": "execute_result"
        }
      ],
      "source": [
        "dataset.head(3)"
      ]
    },
    {
      "cell_type": "markdown",
      "metadata": {
        "id": "FV-EuSpeam6U"
      },
      "source": [
        "You can use `.loc[]` and `.iloc[]` to select data from your `Series` and `DataFrame's`.\n",
        "\n",
        "Lets create a sample series."
      ]
    },
    {
      "cell_type": "code",
      "execution_count": 22,
      "metadata": {
        "colab": {
          "base_uri": "https://localhost:8080/"
        },
        "id": "FxEzKDWSauL9",
        "outputId": "984c60ef-adb9-4f1c-b3b4-644284700f1a"
      },
      "outputs": [
        {
          "data": {
            "text/plain": [
              "0         Lion\n",
              "3        Tiger\n",
              "9        Hippo\n",
              "8    Orangutan\n",
              "dtype: object"
            ]
          },
          "execution_count": 22,
          "metadata": {},
          "output_type": "execute_result"
        }
      ],
      "source": [
        "animals = pd.Series([\"Lion\", \"Tiger\", \"Hippo\", \"Orangutan\"], index=[0, 3, 9, 8])\n",
        "animals"
      ]
    },
    {
      "cell_type": "markdown",
      "metadata": {
        "id": "L6mWVM5bbLJJ"
      },
      "source": [
        "`.loc[]` takes an integer as input. And it chooses from your `Series` or `DataFrame` whichever index matches the number."
      ]
    },
    {
      "cell_type": "code",
      "execution_count": 23,
      "metadata": {
        "colab": {
          "base_uri": "https://localhost:8080/",
          "height": 37
        },
        "id": "XuBqjMh6bS0w",
        "outputId": "5b0f4b93-850b-429d-db52-9be82ec8a6ba"
      },
      "outputs": [
        {
          "data": {
            "application/vnd.google.colaboratory.intrinsic+json": {
              "type": "string"
            },
            "text/plain": [
              "'Tiger'"
            ]
          },
          "execution_count": 23,
          "metadata": {},
          "output_type": "execute_result"
        }
      ],
      "source": [
        "animals.loc[3]"
      ]
    },
    {
      "cell_type": "markdown",
      "metadata": {
        "id": "PoGWuf6ycMql"
      },
      "source": [
        "`.iloc[]` does a similar thing but works with exact positions."
      ]
    },
    {
      "cell_type": "code",
      "execution_count": 24,
      "metadata": {
        "colab": {
          "base_uri": "https://localhost:8080/",
          "height": 37
        },
        "id": "QHpBP0TtcHHn",
        "outputId": "25412d70-3192-4dc8-e321-2e48eda794f8"
      },
      "outputs": [
        {
          "data": {
            "application/vnd.google.colaboratory.intrinsic+json": {
              "type": "string"
            },
            "text/plain": [
              "'Orangutan'"
            ]
          },
          "execution_count": 24,
          "metadata": {},
          "output_type": "execute_result"
        }
      ],
      "source": [
        "animals.iloc[3]"
      ]
    },
    {
      "cell_type": "markdown",
      "metadata": {
        "id": "XB9vX5xkcf0J"
      },
      "source": [
        "When should you use `.loc` and `.iloc`?\n",
        "\n",
        "\n",
        "\n",
        "*   Use `.loc` when you are dealing with *indexes*.\n",
        "*   Use `.iloc` when you are dealing with *positions*.\n",
        "\n"
      ]
    },
    {
      "cell_type": "markdown",
      "metadata": {
        "id": "jhFD6VU5dATR"
      },
      "source": [
        "Slicing can also be used withing `.loc` and `.iloc`.\n",
        "\n",
        ".iloc is most commonly in splitting the dataset into *Matrix of Features* and the *Independent Variable Vector* while doing Machine Learning.\n",
        "\n",
        "Consider the following:"
      ]
    },
    {
      "cell_type": "code",
      "execution_count": 25,
      "metadata": {
        "colab": {
          "base_uri": "https://localhost:8080/",
          "height": 359
        },
        "id": "YvjCSIEndXm8",
        "outputId": "7c7e59fc-8c91-4424-d787-890858783797"
      },
      "outputs": [
        {
          "data": {
            "text/html": [
              "\n",
              "  <div id=\"df-88eff949-e1d7-426d-b578-64ee1adc468a\">\n",
              "    <div class=\"colab-df-container\">\n",
              "      <div>\n",
              "<style scoped>\n",
              "    .dataframe tbody tr th:only-of-type {\n",
              "        vertical-align: middle;\n",
              "    }\n",
              "\n",
              "    .dataframe tbody tr th {\n",
              "        vertical-align: top;\n",
              "    }\n",
              "\n",
              "    .dataframe thead th {\n",
              "        text-align: right;\n",
              "    }\n",
              "</style>\n",
              "<table border=\"1\" class=\"dataframe\">\n",
              "  <thead>\n",
              "    <tr style=\"text-align: right;\">\n",
              "      <th></th>\n",
              "      <th>Country</th>\n",
              "      <th>Age</th>\n",
              "      <th>Salary</th>\n",
              "    </tr>\n",
              "  </thead>\n",
              "  <tbody>\n",
              "    <tr>\n",
              "      <th>0</th>\n",
              "      <td>France</td>\n",
              "      <td>44.0</td>\n",
              "      <td>72000.0</td>\n",
              "    </tr>\n",
              "    <tr>\n",
              "      <th>1</th>\n",
              "      <td>Spain</td>\n",
              "      <td>27.0</td>\n",
              "      <td>48000.0</td>\n",
              "    </tr>\n",
              "    <tr>\n",
              "      <th>2</th>\n",
              "      <td>Germany</td>\n",
              "      <td>30.0</td>\n",
              "      <td>54000.0</td>\n",
              "    </tr>\n",
              "    <tr>\n",
              "      <th>3</th>\n",
              "      <td>Spain</td>\n",
              "      <td>38.0</td>\n",
              "      <td>61000.0</td>\n",
              "    </tr>\n",
              "    <tr>\n",
              "      <th>4</th>\n",
              "      <td>Germany</td>\n",
              "      <td>40.0</td>\n",
              "      <td>NaN</td>\n",
              "    </tr>\n",
              "    <tr>\n",
              "      <th>5</th>\n",
              "      <td>France</td>\n",
              "      <td>35.0</td>\n",
              "      <td>58000.0</td>\n",
              "    </tr>\n",
              "    <tr>\n",
              "      <th>6</th>\n",
              "      <td>Spain</td>\n",
              "      <td>NaN</td>\n",
              "      <td>52000.0</td>\n",
              "    </tr>\n",
              "    <tr>\n",
              "      <th>7</th>\n",
              "      <td>France</td>\n",
              "      <td>48.0</td>\n",
              "      <td>79000.0</td>\n",
              "    </tr>\n",
              "    <tr>\n",
              "      <th>8</th>\n",
              "      <td>Germany</td>\n",
              "      <td>50.0</td>\n",
              "      <td>83000.0</td>\n",
              "    </tr>\n",
              "    <tr>\n",
              "      <th>9</th>\n",
              "      <td>France</td>\n",
              "      <td>37.0</td>\n",
              "      <td>67000.0</td>\n",
              "    </tr>\n",
              "  </tbody>\n",
              "</table>\n",
              "</div>\n",
              "      <button class=\"colab-df-convert\" onclick=\"convertToInteractive('df-88eff949-e1d7-426d-b578-64ee1adc468a')\"\n",
              "              title=\"Convert this dataframe to an interactive table.\"\n",
              "              style=\"display:none;\">\n",
              "        \n",
              "  <svg xmlns=\"http://www.w3.org/2000/svg\" height=\"24px\"viewBox=\"0 0 24 24\"\n",
              "       width=\"24px\">\n",
              "    <path d=\"M0 0h24v24H0V0z\" fill=\"none\"/>\n",
              "    <path d=\"M18.56 5.44l.94 2.06.94-2.06 2.06-.94-2.06-.94-.94-2.06-.94 2.06-2.06.94zm-11 1L8.5 8.5l.94-2.06 2.06-.94-2.06-.94L8.5 2.5l-.94 2.06-2.06.94zm10 10l.94 2.06.94-2.06 2.06-.94-2.06-.94-.94-2.06-.94 2.06-2.06.94z\"/><path d=\"M17.41 7.96l-1.37-1.37c-.4-.4-.92-.59-1.43-.59-.52 0-1.04.2-1.43.59L10.3 9.45l-7.72 7.72c-.78.78-.78 2.05 0 2.83L4 21.41c.39.39.9.59 1.41.59.51 0 1.02-.2 1.41-.59l7.78-7.78 2.81-2.81c.8-.78.8-2.07 0-2.86zM5.41 20L4 18.59l7.72-7.72 1.47 1.35L5.41 20z\"/>\n",
              "  </svg>\n",
              "      </button>\n",
              "      \n",
              "  <style>\n",
              "    .colab-df-container {\n",
              "      display:flex;\n",
              "      flex-wrap:wrap;\n",
              "      gap: 12px;\n",
              "    }\n",
              "\n",
              "    .colab-df-convert {\n",
              "      background-color: #E8F0FE;\n",
              "      border: none;\n",
              "      border-radius: 50%;\n",
              "      cursor: pointer;\n",
              "      display: none;\n",
              "      fill: #1967D2;\n",
              "      height: 32px;\n",
              "      padding: 0 0 0 0;\n",
              "      width: 32px;\n",
              "    }\n",
              "\n",
              "    .colab-df-convert:hover {\n",
              "      background-color: #E2EBFA;\n",
              "      box-shadow: 0px 1px 2px rgba(60, 64, 67, 0.3), 0px 1px 3px 1px rgba(60, 64, 67, 0.15);\n",
              "      fill: #174EA6;\n",
              "    }\n",
              "\n",
              "    [theme=dark] .colab-df-convert {\n",
              "      background-color: #3B4455;\n",
              "      fill: #D2E3FC;\n",
              "    }\n",
              "\n",
              "    [theme=dark] .colab-df-convert:hover {\n",
              "      background-color: #434B5C;\n",
              "      box-shadow: 0px 1px 3px 1px rgba(0, 0, 0, 0.15);\n",
              "      filter: drop-shadow(0px 1px 2px rgba(0, 0, 0, 0.3));\n",
              "      fill: #FFFFFF;\n",
              "    }\n",
              "  </style>\n",
              "\n",
              "      <script>\n",
              "        const buttonEl =\n",
              "          document.querySelector('#df-88eff949-e1d7-426d-b578-64ee1adc468a button.colab-df-convert');\n",
              "        buttonEl.style.display =\n",
              "          google.colab.kernel.accessAllowed ? 'block' : 'none';\n",
              "\n",
              "        async function convertToInteractive(key) {\n",
              "          const element = document.querySelector('#df-88eff949-e1d7-426d-b578-64ee1adc468a');\n",
              "          const dataTable =\n",
              "            await google.colab.kernel.invokeFunction('convertToInteractive',\n",
              "                                                     [key], {});\n",
              "          if (!dataTable) return;\n",
              "\n",
              "          const docLinkHtml = 'Like what you see? Visit the ' +\n",
              "            '<a target=\"_blank\" href=https://colab.research.google.com/notebooks/data_table.ipynb>data table notebook</a>'\n",
              "            + ' to learn more about interactive tables.';\n",
              "          element.innerHTML = '';\n",
              "          dataTable['output_type'] = 'display_data';\n",
              "          await google.colab.output.renderOutput(dataTable, element);\n",
              "          const docLink = document.createElement('div');\n",
              "          docLink.innerHTML = docLinkHtml;\n",
              "          element.appendChild(docLink);\n",
              "        }\n",
              "      </script>\n",
              "    </div>\n",
              "  </div>\n",
              "  "
            ],
            "text/plain": [
              "   Country   Age   Salary\n",
              "0   France  44.0  72000.0\n",
              "1    Spain  27.0  48000.0\n",
              "2  Germany  30.0  54000.0\n",
              "3    Spain  38.0  61000.0\n",
              "4  Germany  40.0      NaN\n",
              "5   France  35.0  58000.0\n",
              "6    Spain   NaN  52000.0\n",
              "7   France  48.0  79000.0\n",
              "8  Germany  50.0  83000.0\n",
              "9   France  37.0  67000.0"
            ]
          },
          "execution_count": 25,
          "metadata": {},
          "output_type": "execute_result"
        }
      ],
      "source": [
        "x = dataset.iloc[:, :-1]\n",
        "x"
      ]
    },
    {
      "cell_type": "code",
      "execution_count": 26,
      "metadata": {
        "colab": {
          "base_uri": "https://localhost:8080/"
        },
        "id": "Cddik44ydgdx",
        "outputId": "40acf93f-80e7-4dd0-eb61-af75e45939ea"
      },
      "outputs": [
        {
          "data": {
            "text/plain": [
              "0     No\n",
              "1    Yes\n",
              "2     No\n",
              "3     No\n",
              "4    Yes\n",
              "5    Yes\n",
              "6     No\n",
              "7    Yes\n",
              "8     No\n",
              "9    Yes\n",
              "Name: Purchased, dtype: object"
            ]
          },
          "execution_count": 26,
          "metadata": {},
          "output_type": "execute_result"
        }
      ],
      "source": [
        "y = dataset.iloc[:, -1]\n",
        "y"
      ]
    },
    {
      "cell_type": "markdown",
      "metadata": {
        "id": "PT_rV3u9dmpc"
      },
      "source": [
        "Here,\n",
        "\n",
        "X : Matrix of Features\n",
        "\n",
        "Y : Independent Variable Vector"
      ]
    }
  ],
  "metadata": {
    "colab": {
      "provenance": []
    },
    "kernelspec": {
      "display_name": "Python 3.9.7 64-bit",
      "language": "python",
      "name": "python3"
    },
    "language_info": {
      "name": "python",
      "version": "3.9.7"
    },
    "vscode": {
      "interpreter": {
        "hash": "b671c20432fcd147198c92e7f072af9e705f087eb990bee22b07f08caab9f630"
      }
    }
  },
  "nbformat": 4,
  "nbformat_minor": 0
}
